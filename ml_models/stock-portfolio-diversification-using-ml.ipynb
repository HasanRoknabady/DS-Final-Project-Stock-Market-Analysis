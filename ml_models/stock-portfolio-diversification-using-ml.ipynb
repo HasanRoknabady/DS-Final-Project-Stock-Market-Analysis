{
 "cells": [
  {
   "cell_type": "markdown",
   "metadata": {
    "_cell_guid": "cf1efab6-9d57-45dd-b106-f3cb9aa62d66",
    "_uuid": "8fe59cd788849aa57cfa45673e53e63ebd4812c6"
   },
   "source": [
    "### Fit Stock Models\n",
    "\n",
    "### Model Selection:\n",
    "\n",
    "Experiment with various regression models beyond traditional linear regression, such as Ridge Regression, Lasso Regression, or even ensemble methods like Random Forest Regression or Gradient Boosting Regression to capture non-linear relationships and improve model performance.\n",
    "Explore deep learning models like Long Short-Term Memory (LSTM) networks or hybrid models that combine traditional machine learning with neural networks for improved predictive power.\n",
    "\n",
    "### Clustering of Stocks\n",
    "Dimensionality Reduction:\n",
    "\n",
    "Utilize dimensionality reduction techniques like Principal Component Analysis (PCA) or t-distributed Stochastic Neighbor Embedding (t-SNE) to reduce the high-dimensional feature space of regression coefficients before performing clustering. This can help in capturing the essential structure of the data while reducing computational complexity.\n",
    "Advanced Clustering Algorithms:\n",
    "\n",
    "Experiment with advanced clustering algorithms such as Gaussian Mixture Models (GMM), DBSCAN (Density-Based Spatial Clustering of Applications with Noise), or hierarchical clustering to identify complex relationships and clusters within the stock data more effectively.\n",
    "Consider using ensemble clustering techniques that combine multiple clustering algorithms to enhance clustering robustness and reliability."
   ]
  },
  {
   "cell_type": "markdown",
   "metadata": {
    "_cell_guid": "36f97190-ec38-4090-a2d0-da66c70487b1",
    "_uuid": "0d7643f2349348ff3578410e8b049152716d9caf",
    "toc": true
   },
   "source": [
    "## Contents:\n",
    "\n",
    "   #### 1. Grab and load the data\n",
    "           1.1 Data and features description\n",
    "           1.2 Load pre downloaded CSV\n",
    "  #### 2. EDA (Exploratory Data Analysis)\n",
    "  #### 3. Regression Model for Stock representation\n",
    "   #### 4 Metrics \n",
    "                4.1 RMSE for Regularization\n",
    "                4.2  MAE for Regression\n",
    "                4.3 RMSE for Regression\n",
    "                4.4 RMSE for All stocks \n",
    "   #### 5  Statistics Significance test \n",
    "\n",
    " \n",
    "  #### 6. User interaction and usecases "
   ]
  },
  {
   "cell_type": "markdown",
   "metadata": {
    "_cell_guid": "6871bf20-0fec-4bb7-a619-afdafafe7028",
    "_uuid": "d12eb7158732af39d6cb9d3008087acb427dd58f"
   },
   "source": [
    "#### 1.1 Data and Features Description"
   ]
  },
  {
   "cell_type": "markdown",
   "metadata": {
    "_cell_guid": "bd137599-2119-4232-9d77-7683a701577c",
    "_uuid": "aa2dad0782e3b993ae828790cf7cb1b15be9527f"
   },
   "source": [
    "The data is presented 5 years of stock data for 500 S&P stocks. The dataset is taken from Kaggle public dataset (https://www.kaggle.com/camnugent/sandp500).\n",
    "\n",
    "\n",
    "All stocks has following columns: \n",
    "* Date - in format: yy-mm-dd \n",
    "* Open - price of the stock at market open (this is NYSE data so all in USD)\n",
    "* High - Highest price reached in the day\n",
    "* Low Close - Lowest price reached in the day\n",
    "* Volume - Number of shares traded\n",
    "* Name - the stock's ticker name"
   ]
  },
  {
   "cell_type": "markdown",
   "metadata": {
    "_cell_guid": "673adef2-0738-4f2b-853e-f983ef239539",
    "_uuid": "aea8880903faabf8ff8506209516d1ba02305643"
   },
   "source": [
    "#### 1.2 Load pre-downloaded csv file"
   ]
  },
  {
   "cell_type": "code",
   "execution_count": 1,
   "metadata": {
    "_cell_guid": "db71f284-1b9a-4a75-bb47-e1613ca8995a",
    "_uuid": "7ca133c7bbd35e3751316b9ebf4ebc271b1626ce"
   },
   "outputs": [],
   "source": [
    "import numpy as np\n",
    "import os\n",
    "%matplotlib inline\n",
    "import matplotlib\n",
    "import matplotlib.pyplot as plt\n",
    "import warnings; warnings.simplefilter('ignore')\n",
    "\n",
    "import pandas as pd\n",
    "from pandas import read_csv\n",
    "from sklearn.pipeline import Pipeline\n",
    "from sklearn.preprocessing import Imputer\n",
    "from sklearn.preprocessing import StandardScaler"
   ]
  },
  {
   "cell_type": "code",
   "execution_count": 11,
   "metadata": {
    "_cell_guid": "7d8a942d-3687-410d-a660-cb62e3f7619b",
    "_uuid": "289dec6932511df3614102dd9baabfb8bc2fedd0"
   },
   "outputs": [
    {
     "data": {
      "text/html": [
       "<div>\n",
       "<style scoped>\n",
       "    .dataframe tbody tr th:only-of-type {\n",
       "        vertical-align: middle;\n",
       "    }\n",
       "\n",
       "    .dataframe tbody tr th {\n",
       "        vertical-align: top;\n",
       "    }\n",
       "\n",
       "    .dataframe thead th {\n",
       "        text-align: right;\n",
       "    }\n",
       "</style>\n",
       "<table border=\"1\" class=\"dataframe\">\n",
       "  <thead>\n",
       "    <tr style=\"text-align: right;\">\n",
       "      <th></th>\n",
       "      <th>date</th>\n",
       "      <th>open</th>\n",
       "      <th>high</th>\n",
       "      <th>low</th>\n",
       "      <th>close</th>\n",
       "      <th>volume</th>\n",
       "      <th>Name</th>\n",
       "    </tr>\n",
       "  </thead>\n",
       "  <tbody>\n",
       "    <tr>\n",
       "      <th>0</th>\n",
       "      <td>2013-02-08</td>\n",
       "      <td>15.07</td>\n",
       "      <td>15.12</td>\n",
       "      <td>14.63</td>\n",
       "      <td>14.75</td>\n",
       "      <td>8407500</td>\n",
       "      <td>AAL</td>\n",
       "    </tr>\n",
       "    <tr>\n",
       "      <th>1</th>\n",
       "      <td>2013-02-11</td>\n",
       "      <td>14.89</td>\n",
       "      <td>15.01</td>\n",
       "      <td>14.26</td>\n",
       "      <td>14.46</td>\n",
       "      <td>8882000</td>\n",
       "      <td>AAL</td>\n",
       "    </tr>\n",
       "    <tr>\n",
       "      <th>2</th>\n",
       "      <td>2013-02-12</td>\n",
       "      <td>14.45</td>\n",
       "      <td>14.51</td>\n",
       "      <td>14.10</td>\n",
       "      <td>14.27</td>\n",
       "      <td>8126000</td>\n",
       "      <td>AAL</td>\n",
       "    </tr>\n",
       "    <tr>\n",
       "      <th>3</th>\n",
       "      <td>2013-02-13</td>\n",
       "      <td>14.30</td>\n",
       "      <td>14.94</td>\n",
       "      <td>14.25</td>\n",
       "      <td>14.66</td>\n",
       "      <td>10259500</td>\n",
       "      <td>AAL</td>\n",
       "    </tr>\n",
       "    <tr>\n",
       "      <th>4</th>\n",
       "      <td>2013-02-14</td>\n",
       "      <td>14.94</td>\n",
       "      <td>14.96</td>\n",
       "      <td>13.16</td>\n",
       "      <td>13.99</td>\n",
       "      <td>31879900</td>\n",
       "      <td>AAL</td>\n",
       "    </tr>\n",
       "  </tbody>\n",
       "</table>\n",
       "</div>"
      ],
      "text/plain": [
       "         date   open   high    low  close    volume Name\n",
       "0  2013-02-08  15.07  15.12  14.63  14.75   8407500  AAL\n",
       "1  2013-02-11  14.89  15.01  14.26  14.46   8882000  AAL\n",
       "2  2013-02-12  14.45  14.51  14.10  14.27   8126000  AAL\n",
       "3  2013-02-13  14.30  14.94  14.25  14.66  10259500  AAL\n",
       "4  2013-02-14  14.94  14.96  13.16  13.99  31879900  AAL"
      ]
     },
     "execution_count": 11,
     "metadata": {},
     "output_type": "execute_result"
    }
   ],
   "source": [
    "#Read the data\n",
    "filename = 'C:/Users/hasan/OneDrive/Desktop/DS/final project/dataset/all_stocks_5yr.csv'\n",
    "stock = read_csv(filename)\n",
    "stock.head()"
   ]
  },
  {
   "cell_type": "markdown",
   "metadata": {
    "_cell_guid": "eb383c70-bbef-4170-ad79-897f1cbbc266",
    "_uuid": "8f09bbb28d7f01a7a0d33e16844c599f363470e3"
   },
   "source": [
    "##### Check the distribution of data to understand variance in features to plan for scaling"
   ]
  },
  {
   "cell_type": "code",
   "execution_count": 5,
   "metadata": {
    "_cell_guid": "86c7fe18-4973-4756-adb7-d6a752ca6d99",
    "_uuid": "9e39d011c2bc0b371f1938092cec81e0ba29a3d0"
   },
   "outputs": [
    {
     "data": {
      "text/html": [
       "<div>\n",
       "<style scoped>\n",
       "    .dataframe tbody tr th:only-of-type {\n",
       "        vertical-align: middle;\n",
       "    }\n",
       "\n",
       "    .dataframe tbody tr th {\n",
       "        vertical-align: top;\n",
       "    }\n",
       "\n",
       "    .dataframe thead th {\n",
       "        text-align: right;\n",
       "    }\n",
       "</style>\n",
       "<table border=\"1\" class=\"dataframe\">\n",
       "  <thead>\n",
       "    <tr style=\"text-align: right;\">\n",
       "      <th></th>\n",
       "      <th>open</th>\n",
       "      <th>high</th>\n",
       "      <th>low</th>\n",
       "      <th>close</th>\n",
       "      <th>volume</th>\n",
       "    </tr>\n",
       "  </thead>\n",
       "  <tbody>\n",
       "    <tr>\n",
       "      <th>count</th>\n",
       "      <td>1259.000000</td>\n",
       "      <td>1259.000000</td>\n",
       "      <td>1259.000000</td>\n",
       "      <td>1259.000000</td>\n",
       "      <td>1.259000e+03</td>\n",
       "    </tr>\n",
       "    <tr>\n",
       "      <th>mean</th>\n",
       "      <td>109.055429</td>\n",
       "      <td>109.951118</td>\n",
       "      <td>108.141589</td>\n",
       "      <td>109.066698</td>\n",
       "      <td>5.404790e+07</td>\n",
       "    </tr>\n",
       "    <tr>\n",
       "      <th>std</th>\n",
       "      <td>30.549220</td>\n",
       "      <td>30.686186</td>\n",
       "      <td>30.376224</td>\n",
       "      <td>30.556812</td>\n",
       "      <td>3.346835e+07</td>\n",
       "    </tr>\n",
       "    <tr>\n",
       "      <th>min</th>\n",
       "      <td>55.424200</td>\n",
       "      <td>57.085700</td>\n",
       "      <td>55.014200</td>\n",
       "      <td>55.789900</td>\n",
       "      <td>1.147592e+07</td>\n",
       "    </tr>\n",
       "    <tr>\n",
       "      <th>25%</th>\n",
       "      <td>84.647800</td>\n",
       "      <td>85.334950</td>\n",
       "      <td>84.250650</td>\n",
       "      <td>84.830650</td>\n",
       "      <td>2.969438e+07</td>\n",
       "    </tr>\n",
       "    <tr>\n",
       "      <th>50%</th>\n",
       "      <td>108.970000</td>\n",
       "      <td>110.030000</td>\n",
       "      <td>108.050000</td>\n",
       "      <td>109.010000</td>\n",
       "      <td>4.566893e+07</td>\n",
       "    </tr>\n",
       "    <tr>\n",
       "      <th>75%</th>\n",
       "      <td>127.335000</td>\n",
       "      <td>128.100000</td>\n",
       "      <td>126.290000</td>\n",
       "      <td>127.120000</td>\n",
       "      <td>6.870872e+07</td>\n",
       "    </tr>\n",
       "    <tr>\n",
       "      <th>max</th>\n",
       "      <td>179.370000</td>\n",
       "      <td>180.100000</td>\n",
       "      <td>178.250000</td>\n",
       "      <td>179.260000</td>\n",
       "      <td>2.668336e+08</td>\n",
       "    </tr>\n",
       "  </tbody>\n",
       "</table>\n",
       "</div>"
      ],
      "text/plain": [
       "              open         high      ...             close        volume\n",
       "count  1259.000000  1259.000000      ...       1259.000000  1.259000e+03\n",
       "mean    109.055429   109.951118      ...        109.066698  5.404790e+07\n",
       "std      30.549220    30.686186      ...         30.556812  3.346835e+07\n",
       "min      55.424200    57.085700      ...         55.789900  1.147592e+07\n",
       "25%      84.647800    85.334950      ...         84.830650  2.969438e+07\n",
       "50%     108.970000   110.030000      ...        109.010000  4.566893e+07\n",
       "75%     127.335000   128.100000      ...        127.120000  6.870872e+07\n",
       "max     179.370000   180.100000      ...        179.260000  2.668336e+08\n",
       "\n",
       "[8 rows x 5 columns]"
      ]
     },
     "execution_count": 5,
     "metadata": {},
     "output_type": "execute_result"
    }
   ],
   "source": [
    "stock_a.describe()"
   ]
  },
  {
   "cell_type": "markdown",
   "metadata": {
    "_cell_guid": "8508b23b-4e75-440a-a7c7-c1e2fd6d079f",
    "_uuid": "4ea71e6af8bebc100b5f018ca270bdc1a69ad37c"
   },
   "source": [
    "##### Adding the new features to understand the price variations of stock within a day and from previous day, these additional features will help in predicting the day close stock price with atmost accuracy as well as these features helps the model to classsify the volatility of a stock"
   ]
  },
  {
   "cell_type": "markdown",
   "metadata": {
    "_cell_guid": "346410e0-bc51-4d10-b6d7-68325352cec8",
    "_uuid": "dd8b4dc85d627906479e0723ce350005aa46da71"
   },
   "source": [
    "##### Variations in day close price of the stock AAPL"
   ]
  },
  {
   "cell_type": "markdown",
   "metadata": {
    "_cell_guid": "8956ecc0-9546-4227-ad28-4785533add84",
    "_uuid": "5b3fd8a42ad00b4e6742e644778deed0ab05f07e"
   },
   "source": [
    "##### Building the correlation matirix to know the correlation bewtween close price(target) and the other features"
   ]
  },
  {
   "cell_type": "code",
   "execution_count": 10,
   "metadata": {
    "_cell_guid": "a690e37f-e15d-4083-ab33-adeacbd629f9",
    "_uuid": "12d51f19fc7a11cb306a1d8e3682ca060fa5f7b2"
   },
   "outputs": [],
   "source": [
    "corr_matrix = stock_a.corr()"
   ]
  },
  {
   "cell_type": "code",
   "execution_count": 11,
   "metadata": {
    "_cell_guid": "bb4e4786-3657-4eea-8595-7af8540592a0",
    "_uuid": "e3170b9c4c782df15aeb9759e135d1f70a868508"
   },
   "outputs": [
    {
     "data": {
      "text/plain": [
       "close                    1.000000\n",
       "low                      0.999614\n",
       "high                     0.999584\n",
       "open                     0.999118\n",
       "changefrompreviousday   -0.099145\n",
       "changeduringday         -0.176314\n",
       "volume                  -0.620290\n",
       "Name: close, dtype: float64"
      ]
     },
     "execution_count": 11,
     "metadata": {},
     "output_type": "execute_result"
    }
   ],
   "source": [
    "corr_matrix[\"close\"].sort_values(ascending=False)"
   ]
  },
  {
   "cell_type": "markdown",
   "metadata": {
    "_cell_guid": "46ae2436-1d6f-423f-a0fe-be6ebac0f669",
    "_uuid": "dc992fc67a8e2267bda5466b5d5925d1d5a2c531"
   },
   "source": [
    "##### Create heldout dataset by splitting the AAPL stock into train and test using Scikit-Learn's train_test_split. Also remove the 'date' & 'name' features from the dataset as it has least significance in prediction day close stock price. Also remove the target feature close from input features and add it to target feature to measure prediction accuracy"
   ]
  },
  {
   "cell_type": "code",
   "execution_count": 14,
   "metadata": {
    "_cell_guid": "8fc343a0-0948-4b17-99ad-558122f2eae7",
    "_uuid": "46be864bbb684bac402fb6a781309b6f6b139eb9"
   },
   "outputs": [],
   "source": [
    "from sklearn.model_selection import train_test_split\n",
    "from sklearn.preprocessing import StandardScaler,Normalizer\n",
    "X_stock_a = stock_a.drop(['date', 'Name','close'], axis=1)\n",
    "y_stock_a = stock_a['close']\n",
    "\n",
    "X_stock_train, X_stock_test, y_stock_train, y_stock_test = train_test_split(X_stock_a, y_stock_a, test_size=0.2, \n",
    "                                                                            random_state=42)\n"
   ]
  },
  {
   "cell_type": "markdown",
   "metadata": {
    "_cell_guid": "820e9cc7-5c56-4375-a624-8705c0558b0e",
    "_uuid": "78341907dc59a8706195a07cf8fcab00c06bd15a"
   },
   "source": [
    "### 3.1 Baseline Model for Normalization & Regression"
   ]
  },
  {
   "cell_type": "code",
   "execution_count": 15,
   "metadata": {
    "_cell_guid": "82e32298-33d2-4fbb-aa1f-7b7de31b34f2",
    "_uuid": "972e33e6d2a811f1b4e06af1bfc4f1c72b8eca22"
   },
   "outputs": [
    {
     "name": "stderr",
     "output_type": "stream",
     "text": [
      "/opt/conda/lib/python3.6/site-packages/sklearn/utils/deprecation.py:58: DeprecationWarning: Class Imputer is deprecated; Imputer was deprecated in version 0.20 and will be removed in 0.22. Import impute.SimpleImputer from sklearn instead.\n",
      "  warnings.warn(msg, category=DeprecationWarning)\n"
     ]
    }
   ],
   "source": [
    "#Data prep pipeline\n",
    "data_pipeline = Pipeline([\n",
    "        ('imputer', Imputer(missing_values=\"NaN\",strategy=\"median\")), #Use the \"median\" to impute missing vlaues\n",
    "        ('scaler',StandardScaler())\n",
    "#        ('normalizer', Normalizer()),\n",
    "    ])"
   ]
  },
  {
   "cell_type": "markdown",
   "metadata": {
    "_cell_guid": "738070c9-6609-4bf1-a118-e6cd0fb47edd",
    "_uuid": "ce1bbcd17b0328e6e66b7b3dbfe45ace583d42cc"
   },
   "source": [
    "#### 3.1.1 Normalize the data and execute Linear Regression"
   ]
  },
  {
   "cell_type": "code",
   "execution_count": 16,
   "metadata": {
    "_cell_guid": "2de3528c-5784-441a-b0ab-c4b93030d179",
    "_uuid": "3dcfcce1d3e34fc0c1f11f021218b18a00fd1c44"
   },
   "outputs": [
    {
     "name": "stderr",
     "output_type": "stream",
     "text": [
      "/opt/conda/lib/python3.6/site-packages/sklearn/utils/deprecation.py:58: DeprecationWarning: Class Imputer is deprecated; Imputer was deprecated in version 0.20 and will be removed in 0.22. Import impute.SimpleImputer from sklearn instead.\n",
      "  warnings.warn(msg, category=DeprecationWarning)\n"
     ]
    },
    {
     "data": {
      "text/plain": [
       "Pipeline(memory=None,\n",
       "     steps=[('imputer', Imputer(axis=0, copy=True, missing_values='NaN', strategy='median', verbose=0)), ('normalizer', Normalizer(copy=True, norm='l2')), ('lr', LinearRegression(copy_X=True, fit_intercept=True, n_jobs=None,\n",
       "         normalize=False))])"
      ]
     },
     "execution_count": 16,
     "metadata": {},
     "output_type": "execute_result"
    }
   ],
   "source": [
    "from sklearn.preprocessing import Imputer\n",
    "from sklearn.linear_model import LinearRegression\n",
    "from sklearn.preprocessing import StandardScaler,Normalizer\n",
    "\n",
    "from sklearn.pipeline import Pipeline\n",
    "\n",
    "Lr_pipeline_nor = Pipeline([\n",
    "        ('imputer', Imputer(missing_values=\"NaN\",strategy=\"median\")), #Use the \"median\" to impute missing vlaues\n",
    "        ('normalizer',Normalizer()),\n",
    "        ('lr', LinearRegression())\n",
    "        \n",
    "    ])\n",
    "\n",
    "Lr_pipeline_nor.fit(X_stock_train, y_stock_train)"
   ]
  },
  {
   "cell_type": "markdown",
   "metadata": {
    "_cell_guid": "00e65551-df01-4991-94bb-3cd6b0bd68a0",
    "_uuid": "e6183f6516b2c4e1ab6f9b41adb614bb58438b27"
   },
   "source": [
    "#### 3.1.2 Normalize the data and execute Linear SVR "
   ]
  },
  {
   "cell_type": "code",
   "execution_count": 17,
   "metadata": {
    "_cell_guid": "ebffe8c6-3144-4ecd-aa3a-d8288d912052",
    "_uuid": "9eb4c58c8b7427ee1f9b15ac0e23a6f6d41d76f5"
   },
   "outputs": [
    {
     "name": "stderr",
     "output_type": "stream",
     "text": [
      "/opt/conda/lib/python3.6/site-packages/sklearn/utils/deprecation.py:58: DeprecationWarning: Class Imputer is deprecated; Imputer was deprecated in version 0.20 and will be removed in 0.22. Import impute.SimpleImputer from sklearn instead.\n",
      "  warnings.warn(msg, category=DeprecationWarning)\n"
     ]
    },
    {
     "data": {
      "text/plain": [
       "Pipeline(memory=None,\n",
       "     steps=[('imputer', Imputer(axis=0, copy=True, missing_values='NaN', strategy='median', verbose=0)), ('normalizer', Normalizer(copy=True, norm='l2')), ('svr', SVR(C=1.0, cache_size=200, coef0=0.0, degree=3, epsilon=0.1,\n",
       "  gamma='auto_deprecated', kernel='linear', max_iter=-1, shrinking=True,\n",
       "  tol=0.001, verbose=False))])"
      ]
     },
     "execution_count": 17,
     "metadata": {},
     "output_type": "execute_result"
    }
   ],
   "source": [
    "from sklearn.svm import SVR\n",
    "from sklearn.preprocessing import Imputer\n",
    "from sklearn.pipeline import Pipeline\n",
    "\n",
    "svr_pipeline_nor = Pipeline([\n",
    "        ('imputer', Imputer(missing_values=\"NaN\",strategy=\"median\")), #Use the \"median\" to impute missing vlaues\n",
    "        ('normalizer',Normalizer()),\n",
    "        ('svr', SVR(kernel=\"linear\"))\n",
    "        \n",
    "    ])\n",
    "\n",
    "svr_pipeline_nor.fit(X_stock_train, y_stock_train)\n"
   ]
  },
  {
   "cell_type": "markdown",
   "metadata": {
    "_cell_guid": "34a0cf43-11a3-47a1-b840-a6c45a409a19",
    "_uuid": "758dedd4bd2bdc5ad7762ed309a853e1634f707c"
   },
   "source": [
    "#### 3.1.3 Normalize the data and execute RBF SVR"
   ]
  },
  {
   "cell_type": "code",
   "execution_count": 18,
   "metadata": {
    "_cell_guid": "89c25b3d-4853-435b-99d7-6d24c9aeb4ac",
    "_uuid": "7b406cc87f6bd9b9a96f5b8628159e799a400599"
   },
   "outputs": [
    {
     "name": "stderr",
     "output_type": "stream",
     "text": [
      "/opt/conda/lib/python3.6/site-packages/sklearn/utils/deprecation.py:58: DeprecationWarning: Class Imputer is deprecated; Imputer was deprecated in version 0.20 and will be removed in 0.22. Import impute.SimpleImputer from sklearn instead.\n",
      "  warnings.warn(msg, category=DeprecationWarning)\n"
     ]
    },
    {
     "data": {
      "text/plain": [
       "Pipeline(memory=None,\n",
       "     steps=[('imputer', Imputer(axis=0, copy=True, missing_values='NaN', strategy='median', verbose=0)), ('normalizer', Normalizer(copy=True, norm='l2')), ('svr', SVR(C=1.0, cache_size=200, coef0=0.0, degree=3, epsilon=0.1,\n",
       "  gamma='auto_deprecated', kernel='rbf', max_iter=-1, shrinking=True,\n",
       "  tol=0.001, verbose=False))])"
      ]
     },
     "execution_count": 18,
     "metadata": {},
     "output_type": "execute_result"
    }
   ],
   "source": [
    "from sklearn.svm import SVR\n",
    "from sklearn.preprocessing import Imputer\n",
    "from sklearn.pipeline import Pipeline\n",
    "\n",
    "svrrbf_pipeline_nor = Pipeline([\n",
    "        ('imputer', Imputer(missing_values=\"NaN\",strategy=\"median\")), #Use the \"median\" to impute missing vlaues\n",
    "        ('normalizer',Normalizer()),\n",
    "        ('svr', SVR(kernel=\"rbf\"))\n",
    "        \n",
    "    ])\n",
    "\n",
    "svrrbf_pipeline_nor.fit(X_stock_train, y_stock_train)"
   ]
  },
  {
   "cell_type": "markdown",
   "metadata": {
    "_cell_guid": "c1221c54-cab4-47d3-94aa-d6bf845881fc",
    "_uuid": "2af1d1875bd6566daf35db8e0305bf5416cb5743"
   },
   "source": [
    "#### 3.1.4 Normalize the data and execute Decision Tree Regressor"
   ]
  },
  {
   "cell_type": "code",
   "execution_count": 19,
   "metadata": {
    "_cell_guid": "0715ac0f-24df-46c4-b392-209d91fed508",
    "_uuid": "6f3aace23527715cd1694a4bf4faddf06e49945d"
   },
   "outputs": [
    {
     "name": "stderr",
     "output_type": "stream",
     "text": [
      "/opt/conda/lib/python3.6/site-packages/sklearn/utils/deprecation.py:58: DeprecationWarning: Class Imputer is deprecated; Imputer was deprecated in version 0.20 and will be removed in 0.22. Import impute.SimpleImputer from sklearn instead.\n",
      "  warnings.warn(msg, category=DeprecationWarning)\n"
     ]
    },
    {
     "data": {
      "text/plain": [
       "Pipeline(memory=None,\n",
       "     steps=[('imputer', Imputer(axis=0, copy=True, missing_values='NaN', strategy='median', verbose=0)), ('normalizer', Normalizer(copy=True, norm='l2')), ('dt', DecisionTreeRegressor(criterion='mse', max_depth=None, max_features=None,\n",
       "           max_leaf_nodes=None, min_impurity_decrease=0.0,\n",
       "           min_impurity_split=None, min_samples_leaf=1,\n",
       "           min_samples_split=2, min_weight_fraction_leaf=0.0,\n",
       "           presort=False, random_state=42, splitter='best'))])"
      ]
     },
     "execution_count": 19,
     "metadata": {},
     "output_type": "execute_result"
    }
   ],
   "source": [
    "from sklearn.tree import DecisionTreeRegressor\n",
    "from sklearn.preprocessing import Imputer\n",
    "from sklearn.pipeline import Pipeline\n",
    "\n",
    "tree_reg = DecisionTreeRegressor(random_state=42)\n",
    "dt_pipeline_nor = Pipeline([\n",
    "        ('imputer', Imputer(missing_values=\"NaN\",strategy=\"median\")), #Use the \"median\" to impute missing vlaues\n",
    "        ('normalizer',Normalizer()),\n",
    "        ('dt', DecisionTreeRegressor(random_state=42))\n",
    "        \n",
    "    ])\n",
    "\n",
    "dt_pipeline_nor.fit(X_stock_train, y_stock_train)"
   ]
  },
  {
   "cell_type": "markdown",
   "metadata": {
    "_cell_guid": "4738562e-60ba-45f8-bfce-c2588be20bb7",
    "_uuid": "878e411cb80f6a7b2597e1381a96f8c548f071d5"
   },
   "source": [
    "### 3.2 Baseline Model for Standardization & Regression"
   ]
  },
  {
   "cell_type": "markdown",
   "metadata": {
    "_cell_guid": "4e22ef23-260d-4273-8bbf-75bdb4c9ff48",
    "_uuid": "eef62a68a33910cc24a2991dffc6c9afcd8e6a21"
   },
   "source": [
    "#### 3.2.1 Standardize the data and execute Linear Regression"
   ]
  },
  {
   "cell_type": "code",
   "execution_count": 20,
   "metadata": {
    "_cell_guid": "472c9781-4336-4063-99b0-7574f5105ec0",
    "_uuid": "f1ee52c3a9f77a8930d54a796182f92fa1ec046a"
   },
   "outputs": [
    {
     "name": "stderr",
     "output_type": "stream",
     "text": [
      "/opt/conda/lib/python3.6/site-packages/sklearn/utils/deprecation.py:58: DeprecationWarning: Class Imputer is deprecated; Imputer was deprecated in version 0.20 and will be removed in 0.22. Import impute.SimpleImputer from sklearn instead.\n",
      "  warnings.warn(msg, category=DeprecationWarning)\n"
     ]
    },
    {
     "data": {
      "text/plain": [
       "Pipeline(memory=None,\n",
       "     steps=[('imputer', Imputer(axis=0, copy=True, missing_values='NaN', strategy='median', verbose=0)), ('scaler', StandardScaler(copy=True, with_mean=True, with_std=True)), ('lr', LinearRegression(copy_X=True, fit_intercept=True, n_jobs=None,\n",
       "         normalize=False))])"
      ]
     },
     "execution_count": 20,
     "metadata": {},
     "output_type": "execute_result"
    }
   ],
   "source": [
    "from sklearn.preprocessing import Imputer\n",
    "from sklearn.linear_model import LinearRegression\n",
    "from sklearn.preprocessing import StandardScaler\n",
    "from sklearn.pipeline import Pipeline\n",
    "\n",
    "#Data prep pipeline\n",
    "\n",
    "Lr_pipeline_std = Pipeline([\n",
    "        ('imputer', Imputer(missing_values=\"NaN\",strategy=\"median\")), #Use the \"median\" to impute missing vlaues\n",
    "        ('scaler',StandardScaler()),\n",
    "        ('lr', LinearRegression())\n",
    "        \n",
    "    ])\n",
    "\n",
    "Lr_pipeline_std.fit(X_stock_train, y_stock_train)\n",
    "\n"
   ]
  },
  {
   "cell_type": "markdown",
   "metadata": {
    "_cell_guid": "deda3ae4-cf21-4392-adc3-7924286cd8f4",
    "_uuid": "58c396467fe78b879c2fc512397d6a736de2fae0"
   },
   "source": [
    "#### 3.2.2 Standardize the data and execute Linear SVR"
   ]
  },
  {
   "cell_type": "code",
   "execution_count": 21,
   "metadata": {
    "_cell_guid": "f78ecb67-b1fd-4d6b-ab4a-1eefe8b0e1a2",
    "_uuid": "d2e0d6072cd93f1f3cd227d76362dfcd16cea3b2"
   },
   "outputs": [
    {
     "name": "stderr",
     "output_type": "stream",
     "text": [
      "/opt/conda/lib/python3.6/site-packages/sklearn/utils/deprecation.py:58: DeprecationWarning: Class Imputer is deprecated; Imputer was deprecated in version 0.20 and will be removed in 0.22. Import impute.SimpleImputer from sklearn instead.\n",
      "  warnings.warn(msg, category=DeprecationWarning)\n"
     ]
    },
    {
     "data": {
      "text/plain": [
       "Pipeline(memory=None,\n",
       "     steps=[('imputer', Imputer(axis=0, copy=True, missing_values='NaN', strategy='median', verbose=0)), ('scaler', StandardScaler(copy=True, with_mean=True, with_std=True)), ('svr', SVR(C=1.0, cache_size=200, coef0=0.0, degree=3, epsilon=0.1,\n",
       "  gamma='auto_deprecated', kernel='linear', max_iter=-1, shrinking=True,\n",
       "  tol=0.001, verbose=False))])"
      ]
     },
     "execution_count": 21,
     "metadata": {},
     "output_type": "execute_result"
    }
   ],
   "source": [
    "from sklearn.svm import SVR\n",
    "from sklearn.preprocessing import Imputer\n",
    "from sklearn.pipeline import Pipeline\n",
    "\n",
    "svr_pipeline_std = Pipeline([\n",
    "        ('imputer', Imputer(missing_values=\"NaN\",strategy=\"median\")), #Use the \"median\" to impute missing vlaues\n",
    "        ('scaler',StandardScaler()),\n",
    "        ('svr', SVR(kernel=\"linear\"))\n",
    "        \n",
    "    ])\n",
    "\n",
    "svr_pipeline_std.fit(X_stock_train, y_stock_train)\n"
   ]
  },
  {
   "cell_type": "markdown",
   "metadata": {
    "_cell_guid": "57d65875-d8db-4d14-bb2b-74089b32c9b3",
    "_uuid": "eb8511480beaf8991d315ca0d871f1c6d03a1c3e"
   },
   "source": [
    "#### 3.2.3 Standardize the data and execute RBF SVR[](http://)"
   ]
  },
  {
   "cell_type": "code",
   "execution_count": 22,
   "metadata": {
    "_cell_guid": "4cfa3827-1508-4ae8-bedc-f08a8314de11",
    "_uuid": "3c47f1b229ec299b1971f06d2cc6ec91a0f33528"
   },
   "outputs": [
    {
     "name": "stderr",
     "output_type": "stream",
     "text": [
      "/opt/conda/lib/python3.6/site-packages/sklearn/utils/deprecation.py:58: DeprecationWarning: Class Imputer is deprecated; Imputer was deprecated in version 0.20 and will be removed in 0.22. Import impute.SimpleImputer from sklearn instead.\n",
      "  warnings.warn(msg, category=DeprecationWarning)\n"
     ]
    },
    {
     "data": {
      "text/plain": [
       "Pipeline(memory=None,\n",
       "     steps=[('imputer', Imputer(axis=0, copy=True, missing_values='NaN', strategy='median', verbose=0)), ('scaler', StandardScaler(copy=True, with_mean=True, with_std=True)), ('svrrbf', SVR(C=1.0, cache_size=200, coef0=0.0, degree=3, epsilon=0.1,\n",
       "  gamma='auto_deprecated', kernel='rbf', max_iter=-1, shrinking=True,\n",
       "  tol=0.001, verbose=False))])"
      ]
     },
     "execution_count": 22,
     "metadata": {},
     "output_type": "execute_result"
    }
   ],
   "source": [
    "from sklearn.svm import SVR\n",
    "from sklearn.preprocessing import Imputer\n",
    "from sklearn.pipeline import Pipeline\n",
    "\n",
    "svrrbf_pipeline_std = Pipeline([\n",
    "        ('imputer', Imputer(missing_values=\"NaN\",strategy=\"median\")), #Use the \"median\" to impute missing vlaues\n",
    "        ('scaler',StandardScaler()),\n",
    "        ('svrrbf', SVR(kernel=\"rbf\"))\n",
    "        \n",
    "    ])\n",
    "\n",
    "svrrbf_pipeline_std.fit(X_stock_train, y_stock_train)"
   ]
  },
  {
   "cell_type": "markdown",
   "metadata": {
    "_cell_guid": "e402dc13-ff26-4097-9cf8-21b80e99c80a",
    "_uuid": "7a5c3cae4ee85646aeec65eea1a804db325ab763"
   },
   "source": [
    "#### 3.2.4 Standardize the data and execute Decision Tree Regression"
   ]
  },
  {
   "cell_type": "code",
   "execution_count": 23,
   "metadata": {
    "_cell_guid": "0ef06af1-edca-4624-b560-b6c3dcedfa82",
    "_uuid": "78c5260a5323df9169e605c6d8fb1d2f42638657"
   },
   "outputs": [
    {
     "name": "stderr",
     "output_type": "stream",
     "text": [
      "/opt/conda/lib/python3.6/site-packages/sklearn/utils/deprecation.py:58: DeprecationWarning: Class Imputer is deprecated; Imputer was deprecated in version 0.20 and will be removed in 0.22. Import impute.SimpleImputer from sklearn instead.\n",
      "  warnings.warn(msg, category=DeprecationWarning)\n"
     ]
    },
    {
     "data": {
      "text/plain": [
       "Pipeline(memory=None,\n",
       "     steps=[('imputer', Imputer(axis=0, copy=True, missing_values='NaN', strategy='median', verbose=0)), ('scaler', StandardScaler(copy=True, with_mean=True, with_std=True)), ('dt', DecisionTreeRegressor(criterion='mse', max_depth=None, max_features=None,\n",
       "           max_leaf_nodes=None, min_impurity_decrease=0.0,\n",
       "           min_impurity_split=None, min_samples_leaf=1,\n",
       "           min_samples_split=2, min_weight_fraction_leaf=0.0,\n",
       "           presort=False, random_state=42, splitter='best'))])"
      ]
     },
     "execution_count": 23,
     "metadata": {},
     "output_type": "execute_result"
    }
   ],
   "source": [
    "from sklearn.tree import DecisionTreeRegressor\n",
    "from sklearn.preprocessing import Imputer\n",
    "from sklearn.pipeline import Pipeline\n",
    "\n",
    "tree_reg = DecisionTreeRegressor(random_state=42)\n",
    "dt_pipeline_std = Pipeline([\n",
    "        ('imputer', Imputer(missing_values=\"NaN\",strategy=\"median\")), #Use the \"median\" to impute missing vlaues\n",
    "        ('scaler',StandardScaler()),\n",
    "        ('dt', DecisionTreeRegressor(random_state=42))\n",
    "        \n",
    "    ])\n",
    "\n",
    "dt_pipeline_std.fit(X_stock_train, y_stock_train)"
   ]
  },
  {
   "cell_type": "markdown",
   "metadata": {
    "_cell_guid": "73e9dd37-6a7c-4426-a12e-938b2b5046e6",
    "_uuid": "0dd9767853398c300e8d1b3609e5c3a639de2235"
   },
   "source": [
    "#### 3.2.5 Standardize the data and execute Ridge Regression"
   ]
  },
  {
   "cell_type": "code",
   "execution_count": 24,
   "metadata": {
    "_cell_guid": "cebd51a6-9e0c-436b-9b6a-7d02c3aeb473",
    "_uuid": "12aad3f6ca95439e9dfc7cd66bc3e1fd6d0f62b0"
   },
   "outputs": [
    {
     "name": "stdout",
     "output_type": "stream",
     "text": [
      "Fitting 10 folds for each of 10 candidates, totalling 100 fits\n"
     ]
    },
    {
     "name": "stderr",
     "output_type": "stream",
     "text": [
      "/opt/conda/lib/python3.6/site-packages/sklearn/utils/deprecation.py:58: DeprecationWarning: Class Imputer is deprecated; Imputer was deprecated in version 0.20 and will be removed in 0.22. Import impute.SimpleImputer from sklearn instead.\n",
      "  warnings.warn(msg, category=DeprecationWarning)\n",
      "/opt/conda/lib/python3.6/site-packages/sklearn/utils/deprecation.py:58: DeprecationWarning: Class Imputer is deprecated; Imputer was deprecated in version 0.20 and will be removed in 0.22. Import impute.SimpleImputer from sklearn instead.\n",
      "  warnings.warn(msg, category=DeprecationWarning)\n",
      "[Parallel(n_jobs=-1)]: Using backend LokyBackend with 4 concurrent workers.\n",
      "/opt/conda/lib/python3.6/site-packages/sklearn/utils/deprecation.py:58: DeprecationWarning: Class Imputer is deprecated; Imputer was deprecated in version 0.20 and will be removed in 0.22. Import impute.SimpleImputer from sklearn instead.\n",
      "  warnings.warn(msg, category=DeprecationWarning)\n",
      "/opt/conda/lib/python3.6/site-packages/sklearn/utils/deprecation.py:58: DeprecationWarning: Class Imputer is deprecated; Imputer was deprecated in version 0.20 and will be removed in 0.22. Import impute.SimpleImputer from sklearn instead.\n",
      "  warnings.warn(msg, category=DeprecationWarning)\n",
      "/opt/conda/lib/python3.6/site-packages/sklearn/utils/deprecation.py:58: DeprecationWarning: Class Imputer is deprecated; Imputer was deprecated in version 0.20 and will be removed in 0.22. Import impute.SimpleImputer from sklearn instead.\n",
      "  warnings.warn(msg, category=DeprecationWarning)\n",
      "/opt/conda/lib/python3.6/site-packages/sklearn/utils/deprecation.py:58: DeprecationWarning: Class Imputer is deprecated; Imputer was deprecated in version 0.20 and will be removed in 0.22. Import impute.SimpleImputer from sklearn instead.\n",
      "  warnings.warn(msg, category=DeprecationWarning)\n",
      "/opt/conda/lib/python3.6/site-packages/sklearn/utils/deprecation.py:58: DeprecationWarning: Class Imputer is deprecated; Imputer was deprecated in version 0.20 and will be removed in 0.22. Import impute.SimpleImputer from sklearn instead.\n",
      "  warnings.warn(msg, category=DeprecationWarning)\n",
      "/opt/conda/lib/python3.6/site-packages/sklearn/utils/deprecation.py:58: DeprecationWarning: Class Imputer is deprecated; Imputer was deprecated in version 0.20 and will be removed in 0.22. Import impute.SimpleImputer from sklearn instead.\n",
      "  warnings.warn(msg, category=DeprecationWarning)\n",
      "/opt/conda/lib/python3.6/site-packages/sklearn/utils/deprecation.py:58: DeprecationWarning: Class Imputer is deprecated; Imputer was deprecated in version 0.20 and will be removed in 0.22. Import impute.SimpleImputer from sklearn instead.\n",
      "  warnings.warn(msg, category=DeprecationWarning)\n",
      "/opt/conda/lib/python3.6/site-packages/sklearn/utils/deprecation.py:58: DeprecationWarning: Class Imputer is deprecated; Imputer was deprecated in version 0.20 and will be removed in 0.22. Import impute.SimpleImputer from sklearn instead.\n",
      "  warnings.warn(msg, category=DeprecationWarning)\n",
      "/opt/conda/lib/python3.6/site-packages/sklearn/utils/deprecation.py:58: DeprecationWarning: Class Imputer is deprecated; Imputer was deprecated in version 0.20 and will be removed in 0.22. Import impute.SimpleImputer from sklearn instead.\n",
      "  warnings.warn(msg, category=DeprecationWarning)\n",
      "/opt/conda/lib/python3.6/site-packages/sklearn/utils/deprecation.py:58: DeprecationWarning: Class Imputer is deprecated; Imputer was deprecated in version 0.20 and will be removed in 0.22. Import impute.SimpleImputer from sklearn instead.\n",
      "  warnings.warn(msg, category=DeprecationWarning)\n",
      "/opt/conda/lib/python3.6/site-packages/sklearn/utils/deprecation.py:58: DeprecationWarning: Class Imputer is deprecated; Imputer was deprecated in version 0.20 and will be removed in 0.22. Import impute.SimpleImputer from sklearn instead.\n",
      "  warnings.warn(msg, category=DeprecationWarning)\n",
      "/opt/conda/lib/python3.6/site-packages/sklearn/utils/deprecation.py:58: DeprecationWarning: Class Imputer is deprecated; Imputer was deprecated in version 0.20 and will be removed in 0.22. Import impute.SimpleImputer from sklearn instead.\n",
      "  warnings.warn(msg, category=DeprecationWarning)\n",
      "/opt/conda/lib/python3.6/site-packages/sklearn/utils/deprecation.py:58: DeprecationWarning: Class Imputer is deprecated; Imputer was deprecated in version 0.20 and will be removed in 0.22. Import impute.SimpleImputer from sklearn instead.\n",
      "  warnings.warn(msg, category=DeprecationWarning)\n",
      "/opt/conda/lib/python3.6/site-packages/sklearn/utils/deprecation.py:58: DeprecationWarning: Class Imputer is deprecated; Imputer was deprecated in version 0.20 and will be removed in 0.22. Import impute.SimpleImputer from sklearn instead.\n",
      "  warnings.warn(msg, category=DeprecationWarning)\n",
      "/opt/conda/lib/python3.6/site-packages/sklearn/utils/deprecation.py:58: DeprecationWarning: Class Imputer is deprecated; Imputer was deprecated in version 0.20 and will be removed in 0.22. Import impute.SimpleImputer from sklearn instead.\n",
      "  warnings.warn(msg, category=DeprecationWarning)\n",
      "/opt/conda/lib/python3.6/site-packages/sklearn/utils/deprecation.py:58: DeprecationWarning: Class Imputer is deprecated; Imputer was deprecated in version 0.20 and will be removed in 0.22. Import impute.SimpleImputer from sklearn instead.\n",
      "  warnings.warn(msg, category=DeprecationWarning)\n",
      "/opt/conda/lib/python3.6/site-packages/sklearn/utils/deprecation.py:58: DeprecationWarning: Class Imputer is deprecated; Imputer was deprecated in version 0.20 and will be removed in 0.22. Import impute.SimpleImputer from sklearn instead.\n",
      "  warnings.warn(msg, category=DeprecationWarning)\n",
      "/opt/conda/lib/python3.6/site-packages/sklearn/utils/deprecation.py:58: DeprecationWarning: Class Imputer is deprecated; Imputer was deprecated in version 0.20 and will be removed in 0.22. Import impute.SimpleImputer from sklearn instead.\n",
      "  warnings.warn(msg, category=DeprecationWarning)\n",
      "/opt/conda/lib/python3.6/site-packages/sklearn/utils/deprecation.py:58: DeprecationWarning: Class Imputer is deprecated; Imputer was deprecated in version 0.20 and will be removed in 0.22. Import impute.SimpleImputer from sklearn instead.\n",
      "  warnings.warn(msg, category=DeprecationWarning)\n",
      "/opt/conda/lib/python3.6/site-packages/sklearn/utils/deprecation.py:58: DeprecationWarning: Class Imputer is deprecated; Imputer was deprecated in version 0.20 and will be removed in 0.22. Import impute.SimpleImputer from sklearn instead.\n",
      "  warnings.warn(msg, category=DeprecationWarning)\n",
      "/opt/conda/lib/python3.6/site-packages/sklearn/utils/deprecation.py:58: DeprecationWarning: Class Imputer is deprecated; Imputer was deprecated in version 0.20 and will be removed in 0.22. Import impute.SimpleImputer from sklearn instead.\n",
      "  warnings.warn(msg, category=DeprecationWarning)\n",
      "/opt/conda/lib/python3.6/site-packages/sklearn/utils/deprecation.py:58: DeprecationWarning: Class Imputer is deprecated; Imputer was deprecated in version 0.20 and will be removed in 0.22. Import impute.SimpleImputer from sklearn instead.\n",
      "  warnings.warn(msg, category=DeprecationWarning)\n",
      "/opt/conda/lib/python3.6/site-packages/sklearn/utils/deprecation.py:58: DeprecationWarning: Class Imputer is deprecated; Imputer was deprecated in version 0.20 and will be removed in 0.22. Import impute.SimpleImputer from sklearn instead.\n",
      "  warnings.warn(msg, category=DeprecationWarning)\n",
      "/opt/conda/lib/python3.6/site-packages/sklearn/utils/deprecation.py:58: DeprecationWarning: Class Imputer is deprecated; Imputer was deprecated in version 0.20 and will be removed in 0.22. Import impute.SimpleImputer from sklearn instead.\n",
      "  warnings.warn(msg, category=DeprecationWarning)\n",
      "/opt/conda/lib/python3.6/site-packages/sklearn/utils/deprecation.py:58: DeprecationWarning: Class Imputer is deprecated; Imputer was deprecated in version 0.20 and will be removed in 0.22. Import impute.SimpleImputer from sklearn instead.\n",
      "  warnings.warn(msg, category=DeprecationWarning)\n",
      "/opt/conda/lib/python3.6/site-packages/sklearn/utils/deprecation.py:58: DeprecationWarning: Class Imputer is deprecated; Imputer was deprecated in version 0.20 and will be removed in 0.22. Import impute.SimpleImputer from sklearn instead.\n",
      "  warnings.warn(msg, category=DeprecationWarning)\n",
      "/opt/conda/lib/python3.6/site-packages/sklearn/utils/deprecation.py:58: DeprecationWarning: Class Imputer is deprecated; Imputer was deprecated in version 0.20 and will be removed in 0.22. Import impute.SimpleImputer from sklearn instead.\n",
      "  warnings.warn(msg, category=DeprecationWarning)\n",
      "/opt/conda/lib/python3.6/site-packages/sklearn/utils/deprecation.py:58: DeprecationWarning: Class Imputer is deprecated; Imputer was deprecated in version 0.20 and will be removed in 0.22. Import impute.SimpleImputer from sklearn instead.\n",
      "  warnings.warn(msg, category=DeprecationWarning)\n",
      "/opt/conda/lib/python3.6/site-packages/sklearn/utils/deprecation.py:58: DeprecationWarning: Class Imputer is deprecated; Imputer was deprecated in version 0.20 and will be removed in 0.22. Import impute.SimpleImputer from sklearn instead.\n",
      "  warnings.warn(msg, category=DeprecationWarning)\n",
      "/opt/conda/lib/python3.6/site-packages/sklearn/utils/deprecation.py:58: DeprecationWarning: Class Imputer is deprecated; Imputer was deprecated in version 0.20 and will be removed in 0.22. Import impute.SimpleImputer from sklearn instead.\n",
      "  warnings.warn(msg, category=DeprecationWarning)\n",
      "/opt/conda/lib/python3.6/site-packages/sklearn/utils/deprecation.py:58: DeprecationWarning: Class Imputer is deprecated; Imputer was deprecated in version 0.20 and will be removed in 0.22. Import impute.SimpleImputer from sklearn instead.\n",
      "  warnings.warn(msg, category=DeprecationWarning)\n",
      "/opt/conda/lib/python3.6/site-packages/sklearn/utils/deprecation.py:58: DeprecationWarning: Class Imputer is deprecated; Imputer was deprecated in version 0.20 and will be removed in 0.22. Import impute.SimpleImputer from sklearn instead.\n",
      "  warnings.warn(msg, category=DeprecationWarning)\n",
      "/opt/conda/lib/python3.6/site-packages/sklearn/utils/deprecation.py:58: DeprecationWarning: Class Imputer is deprecated; Imputer was deprecated in version 0.20 and will be removed in 0.22. Import impute.SimpleImputer from sklearn instead.\n",
      "  warnings.warn(msg, category=DeprecationWarning)\n",
      "/opt/conda/lib/python3.6/site-packages/sklearn/utils/deprecation.py:58: DeprecationWarning: Class Imputer is deprecated; Imputer was deprecated in version 0.20 and will be removed in 0.22. Import impute.SimpleImputer from sklearn instead.\n",
      "  warnings.warn(msg, category=DeprecationWarning)\n",
      "/opt/conda/lib/python3.6/site-packages/sklearn/utils/deprecation.py:58: DeprecationWarning: Class Imputer is deprecated; Imputer was deprecated in version 0.20 and will be removed in 0.22. Import impute.SimpleImputer from sklearn instead.\n",
      "  warnings.warn(msg, category=DeprecationWarning)\n",
      "/opt/conda/lib/python3.6/site-packages/sklearn/utils/deprecation.py:58: DeprecationWarning: Class Imputer is deprecated; Imputer was deprecated in version 0.20 and will be removed in 0.22. Import impute.SimpleImputer from sklearn instead.\n",
      "  warnings.warn(msg, category=DeprecationWarning)\n",
      "/opt/conda/lib/python3.6/site-packages/sklearn/utils/deprecation.py:58: DeprecationWarning: Class Imputer is deprecated; Imputer was deprecated in version 0.20 and will be removed in 0.22. Import impute.SimpleImputer from sklearn instead.\n",
      "  warnings.warn(msg, category=DeprecationWarning)\n",
      "/opt/conda/lib/python3.6/site-packages/sklearn/utils/deprecation.py:58: DeprecationWarning: Class Imputer is deprecated; Imputer was deprecated in version 0.20 and will be removed in 0.22. Import impute.SimpleImputer from sklearn instead.\n",
      "  warnings.warn(msg, category=DeprecationWarning)\n",
      "/opt/conda/lib/python3.6/site-packages/sklearn/utils/deprecation.py:58: DeprecationWarning: Class Imputer is deprecated; Imputer was deprecated in version 0.20 and will be removed in 0.22. Import impute.SimpleImputer from sklearn instead.\n",
      "  warnings.warn(msg, category=DeprecationWarning)\n",
      "/opt/conda/lib/python3.6/site-packages/sklearn/utils/deprecation.py:58: DeprecationWarning: Class Imputer is deprecated; Imputer was deprecated in version 0.20 and will be removed in 0.22. Import impute.SimpleImputer from sklearn instead.\n",
      "  warnings.warn(msg, category=DeprecationWarning)\n",
      "/opt/conda/lib/python3.6/site-packages/sklearn/utils/deprecation.py:58: DeprecationWarning: Class Imputer is deprecated; Imputer was deprecated in version 0.20 and will be removed in 0.22. Import impute.SimpleImputer from sklearn instead.\n",
      "  warnings.warn(msg, category=DeprecationWarning)\n",
      "/opt/conda/lib/python3.6/site-packages/sklearn/utils/deprecation.py:58: DeprecationWarning: Class Imputer is deprecated; Imputer was deprecated in version 0.20 and will be removed in 0.22. Import impute.SimpleImputer from sklearn instead.\n",
      "  warnings.warn(msg, category=DeprecationWarning)\n",
      "/opt/conda/lib/python3.6/site-packages/sklearn/utils/deprecation.py:58: DeprecationWarning: Class Imputer is deprecated; Imputer was deprecated in version 0.20 and will be removed in 0.22. Import impute.SimpleImputer from sklearn instead.\n",
      "  warnings.warn(msg, category=DeprecationWarning)\n",
      "[Parallel(n_jobs=-1)]: Done  33 tasks      | elapsed:    4.8s\n",
      "/opt/conda/lib/python3.6/site-packages/sklearn/utils/deprecation.py:58: DeprecationWarning: Class Imputer is deprecated; Imputer was deprecated in version 0.20 and will be removed in 0.22. Import impute.SimpleImputer from sklearn instead.\n",
      "  warnings.warn(msg, category=DeprecationWarning)\n",
      "/opt/conda/lib/python3.6/site-packages/sklearn/utils/deprecation.py:58: DeprecationWarning: Class Imputer is deprecated; Imputer was deprecated in version 0.20 and will be removed in 0.22. Import impute.SimpleImputer from sklearn instead.\n",
      "  warnings.warn(msg, category=DeprecationWarning)\n",
      "/opt/conda/lib/python3.6/site-packages/sklearn/utils/deprecation.py:58: DeprecationWarning: Class Imputer is deprecated; Imputer was deprecated in version 0.20 and will be removed in 0.22. Import impute.SimpleImputer from sklearn instead.\n",
      "  warnings.warn(msg, category=DeprecationWarning)\n",
      "/opt/conda/lib/python3.6/site-packages/sklearn/utils/deprecation.py:58: DeprecationWarning: Class Imputer is deprecated; Imputer was deprecated in version 0.20 and will be removed in 0.22. Import impute.SimpleImputer from sklearn instead.\n",
      "  warnings.warn(msg, category=DeprecationWarning)\n",
      "/opt/conda/lib/python3.6/site-packages/sklearn/utils/deprecation.py:58: DeprecationWarning: Class Imputer is deprecated; Imputer was deprecated in version 0.20 and will be removed in 0.22. Import impute.SimpleImputer from sklearn instead.\n",
      "  warnings.warn(msg, category=DeprecationWarning)\n",
      "/opt/conda/lib/python3.6/site-packages/sklearn/utils/deprecation.py:58: DeprecationWarning: Class Imputer is deprecated; Imputer was deprecated in version 0.20 and will be removed in 0.22. Import impute.SimpleImputer from sklearn instead.\n",
      "  warnings.warn(msg, category=DeprecationWarning)\n",
      "/opt/conda/lib/python3.6/site-packages/sklearn/utils/deprecation.py:58: DeprecationWarning: Class Imputer is deprecated; Imputer was deprecated in version 0.20 and will be removed in 0.22. Import impute.SimpleImputer from sklearn instead.\n",
      "  warnings.warn(msg, category=DeprecationWarning)\n",
      "/opt/conda/lib/python3.6/site-packages/sklearn/utils/deprecation.py:58: DeprecationWarning: Class Imputer is deprecated; Imputer was deprecated in version 0.20 and will be removed in 0.22. Import impute.SimpleImputer from sklearn instead.\n",
      "  warnings.warn(msg, category=DeprecationWarning)\n",
      "/opt/conda/lib/python3.6/site-packages/sklearn/utils/deprecation.py:58: DeprecationWarning: Class Imputer is deprecated; Imputer was deprecated in version 0.20 and will be removed in 0.22. Import impute.SimpleImputer from sklearn instead.\n",
      "  warnings.warn(msg, category=DeprecationWarning)\n",
      "/opt/conda/lib/python3.6/site-packages/sklearn/utils/deprecation.py:58: DeprecationWarning: Class Imputer is deprecated; Imputer was deprecated in version 0.20 and will be removed in 0.22. Import impute.SimpleImputer from sklearn instead.\n",
      "  warnings.warn(msg, category=DeprecationWarning)\n",
      "/opt/conda/lib/python3.6/site-packages/sklearn/utils/deprecation.py:58: DeprecationWarning: Class Imputer is deprecated; Imputer was deprecated in version 0.20 and will be removed in 0.22. Import impute.SimpleImputer from sklearn instead.\n",
      "  warnings.warn(msg, category=DeprecationWarning)\n",
      "/opt/conda/lib/python3.6/site-packages/sklearn/utils/deprecation.py:58: DeprecationWarning: Class Imputer is deprecated; Imputer was deprecated in version 0.20 and will be removed in 0.22. Import impute.SimpleImputer from sklearn instead.\n",
      "  warnings.warn(msg, category=DeprecationWarning)\n",
      "/opt/conda/lib/python3.6/site-packages/sklearn/utils/deprecation.py:58: DeprecationWarning: Class Imputer is deprecated; Imputer was deprecated in version 0.20 and will be removed in 0.22. Import impute.SimpleImputer from sklearn instead.\n",
      "  warnings.warn(msg, category=DeprecationWarning)\n",
      "/opt/conda/lib/python3.6/site-packages/sklearn/utils/deprecation.py:58: DeprecationWarning: Class Imputer is deprecated; Imputer was deprecated in version 0.20 and will be removed in 0.22. Import impute.SimpleImputer from sklearn instead.\n",
      "  warnings.warn(msg, category=DeprecationWarning)\n",
      "/opt/conda/lib/python3.6/site-packages/sklearn/utils/deprecation.py:58: DeprecationWarning: Class Imputer is deprecated; Imputer was deprecated in version 0.20 and will be removed in 0.22. Import impute.SimpleImputer from sklearn instead.\n",
      "  warnings.warn(msg, category=DeprecationWarning)\n",
      "/opt/conda/lib/python3.6/site-packages/sklearn/utils/deprecation.py:58: DeprecationWarning: Class Imputer is deprecated; Imputer was deprecated in version 0.20 and will be removed in 0.22. Import impute.SimpleImputer from sklearn instead.\n",
      "  warnings.warn(msg, category=DeprecationWarning)\n",
      "/opt/conda/lib/python3.6/site-packages/sklearn/utils/deprecation.py:58: DeprecationWarning: Class Imputer is deprecated; Imputer was deprecated in version 0.20 and will be removed in 0.22. Import impute.SimpleImputer from sklearn instead.\n",
      "  warnings.warn(msg, category=DeprecationWarning)\n",
      "/opt/conda/lib/python3.6/site-packages/sklearn/utils/deprecation.py:58: DeprecationWarning: Class Imputer is deprecated; Imputer was deprecated in version 0.20 and will be removed in 0.22. Import impute.SimpleImputer from sklearn instead.\n",
      "  warnings.warn(msg, category=DeprecationWarning)\n",
      "/opt/conda/lib/python3.6/site-packages/sklearn/utils/deprecation.py:58: DeprecationWarning: Class Imputer is deprecated; Imputer was deprecated in version 0.20 and will be removed in 0.22. Import impute.SimpleImputer from sklearn instead.\n",
      "  warnings.warn(msg, category=DeprecationWarning)\n",
      "/opt/conda/lib/python3.6/site-packages/sklearn/utils/deprecation.py:58: DeprecationWarning: Class Imputer is deprecated; Imputer was deprecated in version 0.20 and will be removed in 0.22. Import impute.SimpleImputer from sklearn instead.\n",
      "  warnings.warn(msg, category=DeprecationWarning)\n",
      "/opt/conda/lib/python3.6/site-packages/sklearn/utils/deprecation.py:58: DeprecationWarning: Class Imputer is deprecated; Imputer was deprecated in version 0.20 and will be removed in 0.22. Import impute.SimpleImputer from sklearn instead.\n",
      "  warnings.warn(msg, category=DeprecationWarning)\n",
      "/opt/conda/lib/python3.6/site-packages/sklearn/utils/deprecation.py:58: DeprecationWarning: Class Imputer is deprecated; Imputer was deprecated in version 0.20 and will be removed in 0.22. Import impute.SimpleImputer from sklearn instead.\n",
      "  warnings.warn(msg, category=DeprecationWarning)\n",
      "/opt/conda/lib/python3.6/site-packages/sklearn/utils/deprecation.py:58: DeprecationWarning: Class Imputer is deprecated; Imputer was deprecated in version 0.20 and will be removed in 0.22. Import impute.SimpleImputer from sklearn instead.\n",
      "  warnings.warn(msg, category=DeprecationWarning)\n",
      "/opt/conda/lib/python3.6/site-packages/sklearn/utils/deprecation.py:58: DeprecationWarning: Class Imputer is deprecated; Imputer was deprecated in version 0.20 and will be removed in 0.22. Import impute.SimpleImputer from sklearn instead.\n",
      "  warnings.warn(msg, category=DeprecationWarning)\n",
      "/opt/conda/lib/python3.6/site-packages/sklearn/utils/deprecation.py:58: DeprecationWarning: Class Imputer is deprecated; Imputer was deprecated in version 0.20 and will be removed in 0.22. Import impute.SimpleImputer from sklearn instead.\n",
      "  warnings.warn(msg, category=DeprecationWarning)\n",
      "/opt/conda/lib/python3.6/site-packages/sklearn/utils/deprecation.py:58: DeprecationWarning: Class Imputer is deprecated; Imputer was deprecated in version 0.20 and will be removed in 0.22. Import impute.SimpleImputer from sklearn instead.\n",
      "  warnings.warn(msg, category=DeprecationWarning)\n",
      "/opt/conda/lib/python3.6/site-packages/sklearn/utils/deprecation.py:58: DeprecationWarning: Class Imputer is deprecated; Imputer was deprecated in version 0.20 and will be removed in 0.22. Import impute.SimpleImputer from sklearn instead.\n",
      "  warnings.warn(msg, category=DeprecationWarning)\n",
      "/opt/conda/lib/python3.6/site-packages/sklearn/utils/deprecation.py:58: DeprecationWarning: Class Imputer is deprecated; Imputer was deprecated in version 0.20 and will be removed in 0.22. Import impute.SimpleImputer from sklearn instead.\n",
      "  warnings.warn(msg, category=DeprecationWarning)\n",
      "/opt/conda/lib/python3.6/site-packages/sklearn/utils/deprecation.py:58: DeprecationWarning: Class Imputer is deprecated; Imputer was deprecated in version 0.20 and will be removed in 0.22. Import impute.SimpleImputer from sklearn instead.\n",
      "  warnings.warn(msg, category=DeprecationWarning)\n",
      "/opt/conda/lib/python3.6/site-packages/sklearn/utils/deprecation.py:58: DeprecationWarning: Class Imputer is deprecated; Imputer was deprecated in version 0.20 and will be removed in 0.22. Import impute.SimpleImputer from sklearn instead.\n",
      "  warnings.warn(msg, category=DeprecationWarning)\n",
      "/opt/conda/lib/python3.6/site-packages/sklearn/utils/deprecation.py:58: DeprecationWarning: Class Imputer is deprecated; Imputer was deprecated in version 0.20 and will be removed in 0.22. Import impute.SimpleImputer from sklearn instead.\n",
      "  warnings.warn(msg, category=DeprecationWarning)\n",
      "/opt/conda/lib/python3.6/site-packages/sklearn/utils/deprecation.py:58: DeprecationWarning: Class Imputer is deprecated; Imputer was deprecated in version 0.20 and will be removed in 0.22. Import impute.SimpleImputer from sklearn instead.\n",
      "  warnings.warn(msg, category=DeprecationWarning)\n",
      "/opt/conda/lib/python3.6/site-packages/sklearn/utils/deprecation.py:58: DeprecationWarning: Class Imputer is deprecated; Imputer was deprecated in version 0.20 and will be removed in 0.22. Import impute.SimpleImputer from sklearn instead.\n",
      "  warnings.warn(msg, category=DeprecationWarning)\n",
      "/opt/conda/lib/python3.6/site-packages/sklearn/utils/deprecation.py:58: DeprecationWarning: Class Imputer is deprecated; Imputer was deprecated in version 0.20 and will be removed in 0.22. Import impute.SimpleImputer from sklearn instead.\n",
      "  warnings.warn(msg, category=DeprecationWarning)\n",
      "/opt/conda/lib/python3.6/site-packages/sklearn/utils/deprecation.py:58: DeprecationWarning: Class Imputer is deprecated; Imputer was deprecated in version 0.20 and will be removed in 0.22. Import impute.SimpleImputer from sklearn instead.\n",
      "  warnings.warn(msg, category=DeprecationWarning)\n",
      "/opt/conda/lib/python3.6/site-packages/sklearn/utils/deprecation.py:58: DeprecationWarning: Class Imputer is deprecated; Imputer was deprecated in version 0.20 and will be removed in 0.22. Import impute.SimpleImputer from sklearn instead.\n",
      "  warnings.warn(msg, category=DeprecationWarning)\n",
      "/opt/conda/lib/python3.6/site-packages/sklearn/utils/deprecation.py:58: DeprecationWarning: Class Imputer is deprecated; Imputer was deprecated in version 0.20 and will be removed in 0.22. Import impute.SimpleImputer from sklearn instead.\n",
      "  warnings.warn(msg, category=DeprecationWarning)\n",
      "/opt/conda/lib/python3.6/site-packages/sklearn/utils/deprecation.py:58: DeprecationWarning: Class Imputer is deprecated; Imputer was deprecated in version 0.20 and will be removed in 0.22. Import impute.SimpleImputer from sklearn instead.\n",
      "  warnings.warn(msg, category=DeprecationWarning)\n",
      "/opt/conda/lib/python3.6/site-packages/sklearn/utils/deprecation.py:58: DeprecationWarning: Class Imputer is deprecated; Imputer was deprecated in version 0.20 and will be removed in 0.22. Import impute.SimpleImputer from sklearn instead.\n",
      "  warnings.warn(msg, category=DeprecationWarning)\n",
      "/opt/conda/lib/python3.6/site-packages/sklearn/utils/deprecation.py:58: DeprecationWarning: Class Imputer is deprecated; Imputer was deprecated in version 0.20 and will be removed in 0.22. Import impute.SimpleImputer from sklearn instead.\n",
      "  warnings.warn(msg, category=DeprecationWarning)\n",
      "/opt/conda/lib/python3.6/site-packages/sklearn/utils/deprecation.py:58: DeprecationWarning: Class Imputer is deprecated; Imputer was deprecated in version 0.20 and will be removed in 0.22. Import impute.SimpleImputer from sklearn instead.\n",
      "  warnings.warn(msg, category=DeprecationWarning)\n",
      "/opt/conda/lib/python3.6/site-packages/sklearn/utils/deprecation.py:58: DeprecationWarning: Class Imputer is deprecated; Imputer was deprecated in version 0.20 and will be removed in 0.22. Import impute.SimpleImputer from sklearn instead.\n",
      "  warnings.warn(msg, category=DeprecationWarning)\n",
      "/opt/conda/lib/python3.6/site-packages/sklearn/utils/deprecation.py:58: DeprecationWarning: Class Imputer is deprecated; Imputer was deprecated in version 0.20 and will be removed in 0.22. Import impute.SimpleImputer from sklearn instead.\n",
      "  warnings.warn(msg, category=DeprecationWarning)\n",
      "/opt/conda/lib/python3.6/site-packages/sklearn/utils/deprecation.py:58: DeprecationWarning: Class Imputer is deprecated; Imputer was deprecated in version 0.20 and will be removed in 0.22. Import impute.SimpleImputer from sklearn instead.\n",
      "  warnings.warn(msg, category=DeprecationWarning)\n",
      "/opt/conda/lib/python3.6/site-packages/sklearn/utils/deprecation.py:58: DeprecationWarning: Class Imputer is deprecated; Imputer was deprecated in version 0.20 and will be removed in 0.22. Import impute.SimpleImputer from sklearn instead.\n",
      "  warnings.warn(msg, category=DeprecationWarning)\n",
      "/opt/conda/lib/python3.6/site-packages/sklearn/utils/deprecation.py:58: DeprecationWarning: Class Imputer is deprecated; Imputer was deprecated in version 0.20 and will be removed in 0.22. Import impute.SimpleImputer from sklearn instead.\n",
      "  warnings.warn(msg, category=DeprecationWarning)\n",
      "/opt/conda/lib/python3.6/site-packages/sklearn/utils/deprecation.py:58: DeprecationWarning: Class Imputer is deprecated; Imputer was deprecated in version 0.20 and will be removed in 0.22. Import impute.SimpleImputer from sklearn instead.\n",
      "  warnings.warn(msg, category=DeprecationWarning)\n",
      "/opt/conda/lib/python3.6/site-packages/sklearn/utils/deprecation.py:58: DeprecationWarning: Class Imputer is deprecated; Imputer was deprecated in version 0.20 and will be removed in 0.22. Import impute.SimpleImputer from sklearn instead.\n",
      "  warnings.warn(msg, category=DeprecationWarning)\n",
      "/opt/conda/lib/python3.6/site-packages/sklearn/utils/deprecation.py:58: DeprecationWarning: Class Imputer is deprecated; Imputer was deprecated in version 0.20 and will be removed in 0.22. Import impute.SimpleImputer from sklearn instead.\n",
      "  warnings.warn(msg, category=DeprecationWarning)\n",
      "/opt/conda/lib/python3.6/site-packages/sklearn/utils/deprecation.py:58: DeprecationWarning: Class Imputer is deprecated; Imputer was deprecated in version 0.20 and will be removed in 0.22. Import impute.SimpleImputer from sklearn instead.\n",
      "  warnings.warn(msg, category=DeprecationWarning)\n",
      "/opt/conda/lib/python3.6/site-packages/sklearn/utils/deprecation.py:58: DeprecationWarning: Class Imputer is deprecated; Imputer was deprecated in version 0.20 and will be removed in 0.22. Import impute.SimpleImputer from sklearn instead.\n",
      "  warnings.warn(msg, category=DeprecationWarning)\n",
      "/opt/conda/lib/python3.6/site-packages/sklearn/utils/deprecation.py:58: DeprecationWarning: Class Imputer is deprecated; Imputer was deprecated in version 0.20 and will be removed in 0.22. Import impute.SimpleImputer from sklearn instead.\n",
      "  warnings.warn(msg, category=DeprecationWarning)\n",
      "/opt/conda/lib/python3.6/site-packages/sklearn/utils/deprecation.py:58: DeprecationWarning: Class Imputer is deprecated; Imputer was deprecated in version 0.20 and will be removed in 0.22. Import impute.SimpleImputer from sklearn instead.\n",
      "  warnings.warn(msg, category=DeprecationWarning)\n",
      "/opt/conda/lib/python3.6/site-packages/sklearn/utils/deprecation.py:58: DeprecationWarning: Class Imputer is deprecated; Imputer was deprecated in version 0.20 and will be removed in 0.22. Import impute.SimpleImputer from sklearn instead.\n",
      "  warnings.warn(msg, category=DeprecationWarning)\n",
      "/opt/conda/lib/python3.6/site-packages/sklearn/utils/deprecation.py:58: DeprecationWarning: Class Imputer is deprecated; Imputer was deprecated in version 0.20 and will be removed in 0.22. Import impute.SimpleImputer from sklearn instead.\n",
      "  warnings.warn(msg, category=DeprecationWarning)\n",
      "/opt/conda/lib/python3.6/site-packages/sklearn/utils/deprecation.py:58: DeprecationWarning: Class Imputer is deprecated; Imputer was deprecated in version 0.20 and will be removed in 0.22. Import impute.SimpleImputer from sklearn instead.\n",
      "  warnings.warn(msg, category=DeprecationWarning)\n",
      "/opt/conda/lib/python3.6/site-packages/sklearn/utils/deprecation.py:58: DeprecationWarning: Class Imputer is deprecated; Imputer was deprecated in version 0.20 and will be removed in 0.22. Import impute.SimpleImputer from sklearn instead.\n",
      "  warnings.warn(msg, category=DeprecationWarning)\n"
     ]
    },
    {
     "name": "stdout",
     "output_type": "stream",
     "text": [
      "109.43641676183681 {'RidgeReg__fit_intercept': False, 'RidgeReg__alpha': 1.0}\n",
      "0.8783874806536163 {'RidgeReg__fit_intercept': True, 'RidgeReg__alpha': 10.0}\n",
      "109.43749223193423 {'RidgeReg__fit_intercept': False, 'RidgeReg__alpha': 10.0}\n",
      "0.5253905556858669 {'RidgeReg__fit_intercept': True, 'RidgeReg__alpha': 0.01}\n",
      "109.43484437334068 {'RidgeReg__fit_intercept': False, 'RidgeReg__alpha': 0.1}\n",
      "109.43450123832282 {'RidgeReg__fit_intercept': False, 'RidgeReg__alpha': 0.0001}\n",
      "1.5712655597471468 {'RidgeReg__fit_intercept': True, 'RidgeReg__alpha': 100.0}\n",
      "109.43452995324525 {'RidgeReg__fit_intercept': False, 'RidgeReg__alpha': 0.01}\n",
      "0.5260514347612655 {'RidgeReg__fit_intercept': True, 'RidgeReg__alpha': 0.001}\n",
      "109.44535857076052 {'RidgeReg__fit_intercept': False, 'RidgeReg__alpha': 100.0}\n",
      "Best CV score for Ridge:  0.27603523600390395\n"
     ]
    },
    {
     "name": "stderr",
     "output_type": "stream",
     "text": [
      "[Parallel(n_jobs=-1)]: Done 100 out of 100 | elapsed:    5.5s finished\n",
      "/opt/conda/lib/python3.6/site-packages/sklearn/model_selection/_search.py:841: DeprecationWarning: The default of the `iid` parameter will change from True to False in version 0.22 and will be removed in 0.24. This will change numeric results when test-set sizes are unequal.\n",
      "  DeprecationWarning)\n",
      "/opt/conda/lib/python3.6/site-packages/sklearn/utils/deprecation.py:58: DeprecationWarning: Class Imputer is deprecated; Imputer was deprecated in version 0.20 and will be removed in 0.22. Import impute.SimpleImputer from sklearn instead.\n",
      "  warnings.warn(msg, category=DeprecationWarning)\n"
     ]
    }
   ],
   "source": [
    "#Doing Regularization Ridge \n",
    "\n",
    "#1. Fine tune Ridge Regression using Random search\n",
    "from sklearn.linear_model import Ridge\n",
    "from sklearn.model_selection import RandomizedSearchCV\n",
    "from sklearn.model_selection import GridSearchCV\n",
    "from sklearn.model_selection  import cross_validate\n",
    "\n",
    "pipeline = Pipeline([('imputer', Imputer(missing_values=\"NaN\",strategy=\"median\")), #Use the \"median\" to impute missing vlaues\n",
    "        ('scaler',StandardScaler()),\n",
    "    ('RidgeReg', Ridge()),\n",
    "])\n",
    "\n",
    "param_distribs = {#listed in the form of \"pipelineStep__parameter\", e.g, \"RidgeLogReg__alpha\":(100., 10., 1.,0.1)\n",
    "    \"RidgeReg__alpha\":(1e2, 1e1, 1., 1e-1, 1e-2, 1e-3, 1e-4),\n",
    "    \"RidgeReg__fit_intercept\":(True,False)\n",
    "}\n",
    "\n",
    "\n",
    "rnd_search_ridge_cv=  RandomizedSearchCV(pipeline, param_distribs,\n",
    "                                 cv=10, scoring='neg_mean_squared_error',\n",
    "                                verbose=2, n_jobs=-1)\n",
    "\n",
    "rnd_search_ridge_cv.fit(X_stock_train, y_stock_train)\n",
    "\n",
    "\n",
    "#Mean CV scores for Ridge\n",
    "ridgescores = rnd_search_ridge_cv.cv_results_\n",
    "for mean_score, params in zip(ridgescores[\"mean_test_score\"], ridgescores[\"params\"]):\n",
    "    print(np.sqrt(-mean_score), params)\n",
    "print ('Best CV score for Ridge: ', -rnd_search_ridge_cv.best_score_)"
   ]
  },
  {
   "cell_type": "code",
   "execution_count": 25,
   "metadata": {
    "_cell_guid": "159c75c7-37a1-49c8-97bd-f4cac3031dec",
    "_uuid": "37a153a7ce4c80b9cf464138114db68efe484b68"
   },
   "outputs": [
    {
     "name": "stdout",
     "output_type": "stream",
     "text": [
      "Ridge regression best estimator RMSE with Standardization 0.5646413651655466\n"
     ]
    }
   ],
   "source": [
    "from sklearn.metrics import mean_squared_error\n",
    "\n",
    "rnd_search_stock_predictions = rnd_search_ridge_cv.best_estimator_.predict(X_stock_test)\n",
    "rnd_search_mse = mean_squared_error(y_stock_test, rnd_search_stock_predictions)\n",
    "rnd_search_rmse = np.sqrt(rnd_search_mse)\n",
    "print('Ridge regression best estimator RMSE with Standardization', rnd_search_rmse)"
   ]
  },
  {
   "cell_type": "markdown",
   "metadata": {
    "_cell_guid": "2a87c86e-cc0e-4d88-81e9-2e2492073b78",
    "_uuid": "b5593c1d947609f39b12bf170278a64964e4f75c"
   },
   "source": [
    "#### 3.2.6 Standardize the data and execute Lasso Regression"
   ]
  },
  {
   "cell_type": "code",
   "execution_count": 27,
   "metadata": {
    "_cell_guid": "e345a542-1ad6-495b-9ed7-78721e524f72",
    "_uuid": "9dd14700f1970bafa1c9b4b724b57ceb815b7aae"
   },
   "outputs": [
    {
     "name": "stdout",
     "output_type": "stream",
     "text": [
      "Lasso regression best estimator RMSE with Standardization 0.8515642192625397\n"
     ]
    }
   ],
   "source": [
    "rnd_search_lasso_stock_predictions = rnd_search_lasso_cv.best_estimator_.predict(X_stock_test)\n",
    "rnd_search_lasso_mse = mean_squared_error(y_stock_test, rnd_search_lasso_stock_predictions)\n",
    "rnd_search_lasso_rmse = np.sqrt(rnd_search_lasso_mse)\n",
    "print('Lasso regression best estimator RMSE with Standardization', rnd_search_lasso_rmse)"
   ]
  },
  {
   "cell_type": "markdown",
   "metadata": {
    "_cell_guid": "fba8e9f1-6585-42f3-97b1-821ca3b19945",
    "_uuid": "64f5a624c88e38536c103f6bb26feeb27a82998e"
   },
   "source": [
    "### 3.3 Fine Tune Model"
   ]
  },
  {
   "cell_type": "markdown",
   "metadata": {
    "_cell_guid": "a35fe5a3-0171-47d3-acbf-d82556cc2333",
    "_uuid": "a437c138bf91ae47c076eabcb4f73a3b40d48480"
   },
   "source": [
    "#### 3.3.2 Fine tune Decision Tree"
   ]
  },
  {
   "cell_type": "code",
   "execution_count": 29,
   "metadata": {
    "_cell_guid": "392adddc-814f-40b1-b5cb-fad10215cd11",
    "_uuid": "b9db99cd9dbd2bdbbe94a9d556ff214690bfe476"
   },
   "outputs": [
    {
     "name": "stdout",
     "output_type": "stream",
     "text": [
      "Fitting 10 folds for each of 10 candidates, totalling 100 fits\n"
     ]
    },
    {
     "name": "stderr",
     "output_type": "stream",
     "text": [
      "[Parallel(n_jobs=-1)]: Using backend LokyBackend with 4 concurrent workers.\n"
     ]
    },
    {
     "name": "stdout",
     "output_type": "stream",
     "text": [
      "18.759295508773505 {'max_depth': 1}\n",
      "8.201039903818176 {'max_depth': 2}\n",
      "4.296510729578418 {'max_depth': 3}\n",
      "2.3040987227395164 {'max_depth': 4}\n",
      "1.4750690085730849 {'max_depth': 5}\n",
      "1.130773559127575 {'max_depth': 6}\n",
      "1.0096953715299517 {'max_depth': 7}\n",
      "1.0473330700549246 {'max_depth': 8}\n",
      "1.022299153970295 {'max_depth': 9}\n",
      "1.0226759993621193 {'max_depth': 10}\n",
      "Best CV score for Decision Tree:  1.019484743289007\n"
     ]
    },
    {
     "name": "stderr",
     "output_type": "stream",
     "text": [
      "[Parallel(n_jobs=-1)]: Done 100 out of 100 | elapsed:    0.3s finished\n",
      "/opt/conda/lib/python3.6/site-packages/sklearn/model_selection/_search.py:841: DeprecationWarning: The default of the `iid` parameter will change from True to False in version 0.22 and will be removed in 0.24. This will change numeric results when test-set sizes are unequal.\n",
      "  DeprecationWarning)\n"
     ]
    }
   ],
   "source": [
    "#2. Fine tune Decision Tree Regressor using Random search\n",
    "from sklearn.tree import DecisionTreeRegressor\n",
    "from sklearn.model_selection import RandomizedSearchCV\n",
    "\n",
    "param_distribs = {\n",
    "        'max_depth': [1,2,3,4,5,6,7,8,9,10],\n",
    "    }\n",
    "\n",
    "tree_reg = DecisionTreeRegressor(random_state=42)\n",
    "rnd_search_tree = RandomizedSearchCV(tree_reg, param_distributions=param_distribs,\n",
    "                                n_iter=10, cv=10, scoring='neg_mean_squared_error',\n",
    "                                verbose=2, n_jobs=-1, random_state=42)\n",
    "\n",
    "X_stock_fe_prep = data_pipeline.transform(X_stock_train)\n",
    "rnd_search_tree.fit(X_stock_fe_prep, y_stock_train)\n",
    "\n",
    "#Metrics - Mean CV scores for Decistion Tree\n",
    "cvres2 = rnd_search_tree.cv_results_\n",
    "for mean_score, params in zip(cvres2[\"mean_test_score\"], cvres2[\"params\"]):\n",
    "    print(np.sqrt(-mean_score), params)\n",
    "print ('Best CV score for Decision Tree: ', -rnd_search_tree.best_score_)"
   ]
  },
  {
   "cell_type": "markdown",
   "metadata": {
    "_cell_guid": "29ad91d9-0a50-4904-aae7-8c46b8918545",
    "_uuid": "774acce3bac9ee3dc854ac068f34564a1186e2e7"
   },
   "source": [
    " #### 3.3.3 Fine tune SVM Regression using Random Search"
   ]
  },
  {
   "cell_type": "code",
   "execution_count": 30,
   "metadata": {
    "_cell_guid": "e3e5c8cf-1078-468f-a1a2-338309d1ca61",
    "_uuid": "f3214b9f7ae60beb4e90177b3282d822b1c25b03"
   },
   "outputs": [
    {
     "name": "stderr",
     "output_type": "stream",
     "text": [
      "[Parallel(n_jobs=-1)]: Using backend LokyBackend with 4 concurrent workers.\n"
     ]
    },
    {
     "name": "stdout",
     "output_type": "stream",
     "text": [
      "Fitting 2 folds for each of 10 candidates, totalling 20 fits\n"
     ]
    },
    {
     "name": "stderr",
     "output_type": "stream",
     "text": [
      "[Parallel(n_jobs=-1)]: Done  20 out of  20 | elapsed:    1.6s finished\n"
     ]
    },
    {
     "name": "stdout",
     "output_type": "stream",
     "text": [
      "0.527969667338767 {'C': 86.56900442587761, 'gamma': 3.010121430917521, 'kernel': 'linear'}\n",
      "7.780488180097977 {'C': 422.37831933647874, 'gamma': 0.9084469696321253, 'kernel': 'rbf'}\n",
      "2.835081160196787 {'C': 36.81798416110504, 'gamma': 0.059838768608680676, 'kernel': 'rbf'}\n",
      "0.5321646828353502 {'C': 73.78887960837761, 'gamma': 0.15416196746656105, 'kernel': 'linear'}\n",
      "16.24888297790775 {'C': 21.67716253868949, 'gamma': 3.503557475158312, 'kernel': 'rbf'}\n",
      "0.8848298717688163 {'C': 786.3264704747313, 'gamma': 0.0007790692366582295, 'kernel': 'rbf'}\n",
      "5.5590413452013 {'C': 40.985360230834694, 'gamma': 0.3627537294604771, 'kernel': 'rbf'}\n",
      "0.5819399034185495 {'C': 20.560583532947476, 'gamma': 0.023332523598323388, 'kernel': 'linear'}\n",
      "3.806833830275606 {'C': 219.0532549726511, 'gamma': 0.15023452872733867, 'kernel': 'rbf'}\n",
      "4.8014759481596725 {'C': 902.4256142480963, 'gamma': 0.26497040005002437, 'kernel': 'rbf'}\n",
      "Best CV score for SVR:  0.2787519696298083\n"
     ]
    }
   ],
   "source": [
    "#3. Fine tune SVM regression using Random search\n",
    "\n",
    "\n",
    "from sklearn.svm import SVC\n",
    "from sklearn.model_selection import RandomizedSearchCV\n",
    "from scipy.stats import expon, reciprocal\n",
    "\n",
    "\n",
    "# Note: gamma is ignored when kernel is \"linear\"\n",
    "param_distribs = {\n",
    "        'kernel': ['linear', 'rbf'],\n",
    "        'C': reciprocal(20, 1000),\n",
    "        'gamma': expon(scale=1.0),\n",
    "    }\n",
    "\n",
    "svm_reg = SVR()\n",
    "rnd_search_svr = RandomizedSearchCV(svm_reg, param_distributions=param_distribs,\n",
    "                                n_iter=10, cv=2, scoring='neg_mean_squared_error',\n",
    "                                verbose=2, n_jobs=-1, random_state=42)\n",
    "X_stock_fe_prep = data_pipeline.fit_transform(X_stock_train[0:500])\n",
    "rnd_search_svr.fit(X_stock_fe_prep, y_stock_train[0:500])\n",
    "\n",
    "\n",
    "#Mean CV scores for SVR\n",
    "cvres3 = rnd_search_svr.cv_results_\n",
    "for mean_score, params in zip(cvres3[\"mean_test_score\"], cvres3[\"params\"]):\n",
    "    print(np.sqrt(-mean_score), params)\n",
    "print ('Best CV score for SVR: ', -rnd_search_svr.best_score_)"
   ]
  },
  {
   "cell_type": "markdown",
   "metadata": {
    "_cell_guid": "a9e812ec-9a3c-4697-bc94-d92ca1d29d55",
    "_uuid": "6753fddd80687ee9a7a5280b8600bbd96e480857"
   },
   "source": []
  },
  {
   "cell_type": "markdown",
   "metadata": {
    "_cell_guid": "1a742ada-eb10-4561-b3be-a427239dcb87",
    "_uuid": "ae5c392b8deec71228c0eae8c7c31830b84701a4"
   },
   "source": [
    "#### 4 Metrics \n",
    "\n",
    "#### 4.1 RMSE for Regularization\n",
    "Calculated RMSE for Lasso and Ridge separately as it was ran thorugh the Cross Validation. The RMSE didn't outperform Linear Regression"
   ]
  },
  {
   "cell_type": "code",
   "execution_count": 31,
   "metadata": {
    "_cell_guid": "e242c9dd-aa7d-4396-800c-10ba844a872c",
    "_uuid": "6838a3bbe58d2f3bce5ff4f3e4204d06938bc132"
   },
   "outputs": [
    {
     "name": "stdout",
     "output_type": "stream",
     "text": [
      "Lasso Regression RMSE with Standardization 0.8515642192625397\n",
      "Ridge Regression RMSE with Standardization 0.5646413651655466\n"
     ]
    }
   ],
   "source": [
    "#Lasso Regression\n",
    "lasso_stock_predictions_std = rnd_search_lasso_cv.best_estimator_.predict(X_stock_test)\n",
    "lasso_mse_std = mean_squared_error(y_stock_test, lasso_stock_predictions_std)\n",
    "lasso_rmse_std = np.sqrt(lasso_mse_std)\n",
    "print('Lasso Regression RMSE with Standardization', lasso_rmse_std)\n",
    "\n",
    "#Ridge Regression\n",
    "ridge_stock_predictions_std = rnd_search_ridge_cv.best_estimator_.predict(X_stock_test)\n",
    "ridge_mse_std = mean_squared_error(y_stock_test, ridge_stock_predictions_std)\n",
    "ridge_rmse_std = np.sqrt(ridge_mse_std)\n",
    "print('Ridge Regression RMSE with Standardization', ridge_rmse_std)\n",
    "\n"
   ]
  },
  {
   "cell_type": "markdown",
   "metadata": {
    "_cell_guid": "2b50ad34-2e8a-48a2-b102-f8e8ef04f853",
    "_uuid": "ea60ac2902ef94cdd3f0de8c0ffde1a923e39955"
   },
   "source": [
    "#### 4.2  MAE for Regression\n",
    "##### We tried Mean Absolute Error to understand how the metrics look but we use RMSE for the actual accuracy measurement of our model"
   ]
  },
  {
   "cell_type": "code",
   "execution_count": 32,
   "metadata": {
    "_cell_guid": "6b1bca54-21e5-41e9-b086-8188038123d4",
    "_uuid": "10a00c9950e9ff7f14fb2baf3e1910fb6c66f395"
   },
   "outputs": [
    {
     "name": "stdout",
     "output_type": "stream",
     "text": [
      "Lr MAE with Normalization 7.96468285357763\n",
      "Lr MAE with standardization 0.40104631920463285\n",
      "SVM MAE with Normalization 24.466137692495213\n",
      "SVM MAE with standardization 0.5230084043340691\n",
      "SVM RBF MAE with Normalization 24.4661376964402\n",
      "SVM RBF MAE with standardization 3.2288860882520902\n",
      "DecisionTree MAE with Normalization 23.327932325191004\n",
      "DecisionTree MAE with standardization 0.7457000000000006\n",
      "Lasso Regression MAE with Standardization 0.6079135279175469\n",
      "Ridge Regression MAE with Standardization 0.40017618994229726\n"
     ]
    }
   ],
   "source": [
    "from sklearn.metrics import mean_absolute_error\n",
    "\n",
    "#Linear Regression with normalisation and standardisation\n",
    "lr_stock_predictions_nor = Lr_pipeline_nor.predict(X_stock_test)\n",
    "lr_mae_nor = mean_absolute_error(y_stock_test, lr_stock_predictions_nor)\n",
    "print('Lr MAE with Normalization', lr_mae_nor)\n",
    "\n",
    "lr_stock_predictions_std = Lr_pipeline_std.predict(X_stock_test)\n",
    "lr_mae_std = mean_absolute_error(y_stock_test, lr_stock_predictions_std)\n",
    "print('Lr MAE with standardization', lr_mae_std)\n",
    "\n",
    "#SVM with normalisation and standardisation\n",
    "svm_stock_predictions_nor = svr_pipeline_nor.predict(X_stock_test)\n",
    "svm_mae_nor = mean_absolute_error(y_stock_test, svm_stock_predictions_nor)\n",
    "print('SVM MAE with Normalization', svm_mae_nor)\n",
    "\n",
    "svm_stock_predictions_std = svr_pipeline_std.predict(X_stock_test)\n",
    "svm_mae_std = mean_absolute_error(y_stock_test, svm_stock_predictions_std)\n",
    "print('SVM MAE with standardization', svm_mae_std)\n",
    "\n",
    "\n",
    "#SVM with RFB Kernel with normalisation and standardisation\n",
    "svmrbf_stock_predictions_nor = svrrbf_pipeline_nor.predict(X_stock_test)\n",
    "svmrbf_mae_nor = mean_absolute_error(y_stock_test, svmrbf_stock_predictions_nor)\n",
    "print('SVM RBF MAE with Normalization', svmrbf_mae_nor)\n",
    "\n",
    "\n",
    "svmrbf_stock_predictions_std = svrrbf_pipeline_std.predict(X_stock_test)\n",
    "svmrbf_mae_std = mean_absolute_error(y_stock_test, svmrbf_stock_predictions_std)\n",
    "print('SVM RBF MAE with standardization', svmrbf_mae_std)\n",
    "\n",
    "#Decision Tree with normalisation and standardisation\n",
    "dt_stock_predictions_nor = dt_pipeline_nor.predict(X_stock_test)\n",
    "dt_mae_nor = mean_absolute_error(y_stock_test, dt_stock_predictions_nor)\n",
    "print('DecisionTree MAE with Normalization', dt_mae_nor)\n",
    "\n",
    "dt_stock_predictions_std = dt_pipeline_std.predict(X_stock_test)\n",
    "dt_mae_std = mean_absolute_error(y_stock_test, dt_stock_predictions_std)\n",
    "print('DecisionTree MAE with standardization', dt_mae_std)\n",
    "\n",
    "\n",
    "#Lasso Regression\n",
    "lasso_stock_predictions_std = rnd_search_lasso_cv.best_estimator_.predict(X_stock_test)\n",
    "lasso_mae_std = mean_absolute_error(y_stock_test, lasso_stock_predictions_std)\n",
    "print('Lasso Regression MAE with Standardization', lasso_mae_std)\n",
    "\n",
    "#Ridge Regression\n",
    "ridge_stock_predictions_std = rnd_search_ridge_cv.best_estimator_.predict(X_stock_test)\n",
    "ridge_mae_std = mean_absolute_error(y_stock_test, ridge_stock_predictions_std)\n",
    "print('Ridge Regression MAE with Standardization', ridge_mae_std)\n",
    "\n"
   ]
  },
  {
   "cell_type": "markdown",
   "metadata": {
    "_cell_guid": "31e9d165-721c-4362-94a5-bf2e9abb1576",
    "_uuid": "63854bf7d1e47d8bd020942b74c876d942bd654e"
   },
   "source": [
    "#### 4.3 RMSE for Regression\n",
    "#####  RMSE for all of the models (including Regularization , Standardization and normalization) "
   ]
  },
  {
   "cell_type": "code",
   "execution_count": 33,
   "metadata": {
    "_cell_guid": "ad4fba06-44e1-4e94-bb67-1a010ed2618b",
    "_uuid": "fbab2ea199d3058a077270308db49f29cd42353d"
   },
   "outputs": [
    {
     "name": "stdout",
     "output_type": "stream",
     "text": [
      "Lr RMSE with Normalization 9.798470054390442\n",
      "Lr RMSE with standardization 0.5672789642782876\n",
      "SVM RMSE with Normalization 30.35749136672001\n",
      "SVM RMSE with standardization 0.7298550488461604\n",
      "SVM RBF RMSE with Normalization 30.357491371346057\n",
      "SVM RBF RMSE with standardization 7.591106524690999\n",
      "DecisionTree RMSE with Normalization 29.301370231529017\n",
      "DecisionTree RMSE with standardization 1.1779024158519418\n",
      "Lasso Regression RMSE with Standardization 0.8515642192625397\n",
      "Ridge Regression RMSE with Standardization 0.5646413651655466\n"
     ]
    },
    {
     "data": {
      "text/html": [
       "<div>\n",
       "<style scoped>\n",
       "    .dataframe tbody tr th:only-of-type {\n",
       "        vertical-align: middle;\n",
       "    }\n",
       "\n",
       "    .dataframe tbody tr th {\n",
       "        vertical-align: top;\n",
       "    }\n",
       "\n",
       "    .dataframe thead th {\n",
       "        text-align: right;\n",
       "    }\n",
       "</style>\n",
       "<table border=\"1\" class=\"dataframe\">\n",
       "  <thead>\n",
       "    <tr style=\"text-align: right;\">\n",
       "      <th></th>\n",
       "      <th>ExpID</th>\n",
       "      <th>Model</th>\n",
       "      <th>RMSE</th>\n",
       "      <th>MAE</th>\n",
       "    </tr>\n",
       "  </thead>\n",
       "  <tbody>\n",
       "    <tr>\n",
       "      <th>0</th>\n",
       "      <td>1</td>\n",
       "      <td>Linear Regression with standardisation</td>\n",
       "      <td>0.567</td>\n",
       "      <td>0.401</td>\n",
       "    </tr>\n",
       "    <tr>\n",
       "      <th>1</th>\n",
       "      <td>2</td>\n",
       "      <td>Linear Regression with normalisation</td>\n",
       "      <td>9.798</td>\n",
       "      <td>7.965</td>\n",
       "    </tr>\n",
       "    <tr>\n",
       "      <th>2</th>\n",
       "      <td>3</td>\n",
       "      <td>Decision Tree with standardisation</td>\n",
       "      <td>1.178</td>\n",
       "      <td>0.746</td>\n",
       "    </tr>\n",
       "    <tr>\n",
       "      <th>3</th>\n",
       "      <td>4</td>\n",
       "      <td>Decision Tree with normalisation</td>\n",
       "      <td>29.301</td>\n",
       "      <td>23.328</td>\n",
       "    </tr>\n",
       "    <tr>\n",
       "      <th>4</th>\n",
       "      <td>5</td>\n",
       "      <td>SVM with standardisation</td>\n",
       "      <td>0.730</td>\n",
       "      <td>0.523</td>\n",
       "    </tr>\n",
       "    <tr>\n",
       "      <th>5</th>\n",
       "      <td>6</td>\n",
       "      <td>SVM with normalisation</td>\n",
       "      <td>30.357</td>\n",
       "      <td>24.466</td>\n",
       "    </tr>\n",
       "    <tr>\n",
       "      <th>6</th>\n",
       "      <td>7</td>\n",
       "      <td>SVM RFB with standardisation</td>\n",
       "      <td>7.591</td>\n",
       "      <td>3.229</td>\n",
       "    </tr>\n",
       "    <tr>\n",
       "      <th>7</th>\n",
       "      <td>8</td>\n",
       "      <td>SVM RFB with normalisation</td>\n",
       "      <td>30.357</td>\n",
       "      <td>24.466</td>\n",
       "    </tr>\n",
       "    <tr>\n",
       "      <th>8</th>\n",
       "      <td>9</td>\n",
       "      <td>Ridge Regression with standardisation</td>\n",
       "      <td>0.565</td>\n",
       "      <td>0.400</td>\n",
       "    </tr>\n",
       "    <tr>\n",
       "      <th>9</th>\n",
       "      <td>10</td>\n",
       "      <td>Lasso Regression with standardisation</td>\n",
       "      <td>0.852</td>\n",
       "      <td>0.608</td>\n",
       "    </tr>\n",
       "  </tbody>\n",
       "</table>\n",
       "</div>"
      ],
      "text/plain": [
       "  ExpID                                   Model    RMSE     MAE\n",
       "0     1  Linear Regression with standardisation   0.567   0.401\n",
       "1     2    Linear Regression with normalisation   9.798   7.965\n",
       "2     3      Decision Tree with standardisation   1.178   0.746\n",
       "3     4        Decision Tree with normalisation  29.301  23.328\n",
       "4     5                SVM with standardisation   0.730   0.523\n",
       "5     6                  SVM with normalisation  30.357  24.466\n",
       "6     7            SVM RFB with standardisation   7.591   3.229\n",
       "7     8              SVM RFB with normalisation  30.357  24.466\n",
       "8     9   Ridge Regression with standardisation   0.565   0.400\n",
       "9    10   Lasso Regression with standardisation   0.852   0.608"
      ]
     },
     "execution_count": 33,
     "metadata": {},
     "output_type": "execute_result"
    }
   ],
   "source": [
    "import pandas as pd\n",
    "import numpy as np\n",
    "\n",
    "#Predict and report RMSE\n",
    "from sklearn.metrics import mean_squared_error\n",
    "\n",
    "from sklearn.metrics import mean_squared_error\n",
    "\n",
    "#Linear Regression with normalisation and standardisation\n",
    "lr_stock_predictions_nor = Lr_pipeline_nor.predict(X_stock_test)\n",
    "lr_mse_nor = mean_squared_error(y_stock_test, lr_stock_predictions_nor)\n",
    "lr_rmse_nor = np.sqrt(lr_mse_nor)\n",
    "print('Lr RMSE with Normalization', lr_rmse_nor)\n",
    "\n",
    "lr_stock_predictions_std = Lr_pipeline_std.predict(X_stock_test)\n",
    "lr_mse_std = mean_squared_error(y_stock_test, lr_stock_predictions_std)\n",
    "lr_rmse_std = np.sqrt(lr_mse_std)\n",
    "print('Lr RMSE with standardization', lr_rmse_std)\n",
    "\n",
    "#SVM with normalisation and standardisation\n",
    "svm_stock_predictions_nor = svr_pipeline_nor.predict(X_stock_test)\n",
    "svm_mse_nor = mean_squared_error(y_stock_test, svm_stock_predictions_nor)\n",
    "svm_rmse_nor = np.sqrt(svm_mse_nor)\n",
    "print('SVM RMSE with Normalization', svm_rmse_nor)\n",
    "\n",
    "svm_stock_predictions_std = svr_pipeline_std.predict(X_stock_test)\n",
    "svm_mse_std = mean_squared_error(y_stock_test, svm_stock_predictions_std)\n",
    "svm_rmse_std = np.sqrt(svm_mse_std)\n",
    "print('SVM RMSE with standardization', svm_rmse_std)\n",
    "\n",
    "\n",
    "#SVM with RFB Kernel with normalisation and standardisation\n",
    "svmrbf_stock_predictions_nor = svrrbf_pipeline_nor.predict(X_stock_test)\n",
    "svmrbf_mse_nor = mean_squared_error(y_stock_test, svmrbf_stock_predictions_nor)\n",
    "svmrbf_rmse_nor = np.sqrt(svmrbf_mse_nor)\n",
    "print('SVM RBF RMSE with Normalization', svmrbf_rmse_nor)\n",
    "\n",
    "\n",
    "svmrbf_stock_predictions_std = svrrbf_pipeline_std.predict(X_stock_test)\n",
    "svmrbf_mse_std = mean_squared_error(y_stock_test, svmrbf_stock_predictions_std)\n",
    "svmrbf_rmse_std = np.sqrt(svmrbf_mse_std)\n",
    "print('SVM RBF RMSE with standardization', svmrbf_rmse_std)\n",
    "\n",
    "#Decision Tree with normalisation and standardisation\n",
    "dt_stock_predictions_nor = dt_pipeline_nor.predict(X_stock_test)\n",
    "dt_mse_nor = mean_squared_error(y_stock_test, dt_stock_predictions_nor)\n",
    "dt_rmse_nor = np.sqrt(dt_mse_nor)\n",
    "print('DecisionTree RMSE with Normalization', dt_rmse_nor)\n",
    "\n",
    "dt_stock_predictions_std = dt_pipeline_std.predict(X_stock_test)\n",
    "dt_mse_std = mean_squared_error(y_stock_test, dt_stock_predictions_std)\n",
    "dt_rmse_std = np.sqrt(dt_mse_std)\n",
    "print('DecisionTree RMSE with standardization', dt_rmse_std)\n",
    "\n",
    "\n",
    "#Lasso Regression\n",
    "lasso_stock_predictions_std = rnd_search_lasso_cv.best_estimator_.predict(X_stock_test)\n",
    "lasso_mse_std = mean_squared_error(y_stock_test, lasso_stock_predictions_std)\n",
    "lasso_rmse_std = np.sqrt(lasso_mse_std)\n",
    "print('Lasso Regression RMSE with Standardization', lasso_rmse_std)\n",
    "\n",
    "#Ridge Regression\n",
    "ridge_stock_predictions_std = rnd_search_ridge_cv.best_estimator_.predict(X_stock_test)\n",
    "ridge_mse_std = mean_squared_error(y_stock_test, ridge_stock_predictions_std)\n",
    "ridge_rmse_std = np.sqrt(ridge_mse_std)\n",
    "print('Ridge Regression RMSE with Standardization', ridge_rmse_std)\n",
    "\n",
    "lr_std = ['1',\"Linear Regression with standardisation\",np.round(lr_rmse_std,3),np.round(lr_mae_std,3)]\n",
    "lr_nor = ['2',\"Linear Regression with normalisation\",np.round(lr_rmse_nor,3),np.round(lr_mae_nor,3)]\n",
    "dt_std = ['3',\"Decision Tree with standardisation\",np.round(dt_rmse_std,3),np.round(dt_mae_std,3)]\n",
    "dt_nor = ['4',\"Decision Tree with normalisation\",np.round(dt_rmse_nor,3),np.round(dt_mae_nor,3)]\n",
    "\n",
    "svm_std = ['5',\"SVM with standardisation\",np.round(svm_rmse_std,3),np.round(svm_mae_std,3)]\n",
    "svm_nor = ['6',\"SVM with normalisation\",np.round(svm_rmse_nor,3),np.round(svm_mae_nor,3)]\n",
    "\n",
    "svmrfb_std = ['7',\"SVM RFB with standardisation\",np.round(svmrbf_rmse_std,3),np.round(svmrbf_mae_std,3)]\n",
    "svmrfb_nor = ['8',\"SVM RFB with normalisation\",np.round(svmrbf_rmse_nor,3),np.round(svmrbf_mae_nor,3)]\n",
    "ridge_std = ['9',\"Ridge Regression with standardisation\",np.round(ridge_rmse_std,3),np.round(ridge_mae_std,3)]\n",
    "lasso_std = ['10',\"Lasso Regression with standardisation\",np.round(lasso_rmse_std,3),np.round(lasso_mae_std,3)]\n",
    "\n",
    "\n",
    "linear_model_result= pd.DataFrame([lr_std,lr_nor,dt_std,dt_nor,svm_std,svm_nor,svmrfb_std,svmrfb_nor,ridge_std,lasso_std],columns=[ \"ExpID\", \"Model\", \"RMSE\",\"MAE\"])\n",
    "\n",
    "linear_model_result"
   ]
  },
  {
   "cell_type": "markdown",
   "metadata": {
    "_cell_guid": "b280943a-c581-45d1-8b52-4d8d9b91d82f",
    "_uuid": "7c6460b9b95addd0304d000cb40bf76e8f57e136"
   },
   "source": [
    "#### 5  Statistics Significance test "
   ]
  },
  {
   "cell_type": "code",
   "execution_count": 35,
   "metadata": {
    "_cell_guid": "bdad3bf4-b57a-437b-9c8d-b2eb63320cbc",
    "_uuid": "f31e5edc61f1cd76aa24794fdd8689bcfd669883"
   },
   "outputs": [
    {
     "name": "stderr",
     "output_type": "stream",
     "text": [
      "/opt/conda/lib/python3.6/site-packages/sklearn/utils/deprecation.py:58: DeprecationWarning: Class Imputer is deprecated; Imputer was deprecated in version 0.20 and will be removed in 0.22. Import impute.SimpleImputer from sklearn instead.\n",
      "  warnings.warn(msg, category=DeprecationWarning)\n",
      "/opt/conda/lib/python3.6/site-packages/sklearn/utils/deprecation.py:58: DeprecationWarning: Class Imputer is deprecated; Imputer was deprecated in version 0.20 and will be removed in 0.22. Import impute.SimpleImputer from sklearn instead.\n",
      "  warnings.warn(msg, category=DeprecationWarning)\n",
      "/opt/conda/lib/python3.6/site-packages/sklearn/utils/deprecation.py:58: DeprecationWarning: Class Imputer is deprecated; Imputer was deprecated in version 0.20 and will be removed in 0.22. Import impute.SimpleImputer from sklearn instead.\n",
      "  warnings.warn(msg, category=DeprecationWarning)\n",
      "/opt/conda/lib/python3.6/site-packages/sklearn/utils/deprecation.py:58: DeprecationWarning: Class Imputer is deprecated; Imputer was deprecated in version 0.20 and will be removed in 0.22. Import impute.SimpleImputer from sklearn instead.\n",
      "  warnings.warn(msg, category=DeprecationWarning)\n",
      "/opt/conda/lib/python3.6/site-packages/sklearn/utils/deprecation.py:58: DeprecationWarning: Class Imputer is deprecated; Imputer was deprecated in version 0.20 and will be removed in 0.22. Import impute.SimpleImputer from sklearn instead.\n",
      "  warnings.warn(msg, category=DeprecationWarning)\n",
      "/opt/conda/lib/python3.6/site-packages/sklearn/utils/deprecation.py:58: DeprecationWarning: Class Imputer is deprecated; Imputer was deprecated in version 0.20 and will be removed in 0.22. Import impute.SimpleImputer from sklearn instead.\n",
      "  warnings.warn(msg, category=DeprecationWarning)\n",
      "/opt/conda/lib/python3.6/site-packages/sklearn/utils/deprecation.py:58: DeprecationWarning: Class Imputer is deprecated; Imputer was deprecated in version 0.20 and will be removed in 0.22. Import impute.SimpleImputer from sklearn instead.\n",
      "  warnings.warn(msg, category=DeprecationWarning)\n",
      "/opt/conda/lib/python3.6/site-packages/sklearn/utils/deprecation.py:58: DeprecationWarning: Class Imputer is deprecated; Imputer was deprecated in version 0.20 and will be removed in 0.22. Import impute.SimpleImputer from sklearn instead.\n",
      "  warnings.warn(msg, category=DeprecationWarning)\n",
      "/opt/conda/lib/python3.6/site-packages/sklearn/utils/deprecation.py:58: DeprecationWarning: Class Imputer is deprecated; Imputer was deprecated in version 0.20 and will be removed in 0.22. Import impute.SimpleImputer from sklearn instead.\n",
      "  warnings.warn(msg, category=DeprecationWarning)\n",
      "/opt/conda/lib/python3.6/site-packages/sklearn/utils/deprecation.py:58: DeprecationWarning: Class Imputer is deprecated; Imputer was deprecated in version 0.20 and will be removed in 0.22. Import impute.SimpleImputer from sklearn instead.\n",
      "  warnings.warn(msg, category=DeprecationWarning)\n",
      "/opt/conda/lib/python3.6/site-packages/sklearn/utils/deprecation.py:58: DeprecationWarning: Class Imputer is deprecated; Imputer was deprecated in version 0.20 and will be removed in 0.22. Import impute.SimpleImputer from sklearn instead.\n",
      "  warnings.warn(msg, category=DeprecationWarning)\n",
      "/opt/conda/lib/python3.6/site-packages/sklearn/utils/deprecation.py:58: DeprecationWarning: Class Imputer is deprecated; Imputer was deprecated in version 0.20 and will be removed in 0.22. Import impute.SimpleImputer from sklearn instead.\n",
      "  warnings.warn(msg, category=DeprecationWarning)\n",
      "/opt/conda/lib/python3.6/site-packages/sklearn/utils/deprecation.py:58: DeprecationWarning: Class Imputer is deprecated; Imputer was deprecated in version 0.20 and will be removed in 0.22. Import impute.SimpleImputer from sklearn instead.\n",
      "  warnings.warn(msg, category=DeprecationWarning)\n",
      "/opt/conda/lib/python3.6/site-packages/sklearn/utils/deprecation.py:58: DeprecationWarning: Class Imputer is deprecated; Imputer was deprecated in version 0.20 and will be removed in 0.22. Import impute.SimpleImputer from sklearn instead.\n",
      "  warnings.warn(msg, category=DeprecationWarning)\n",
      "/opt/conda/lib/python3.6/site-packages/sklearn/utils/deprecation.py:58: DeprecationWarning: Class Imputer is deprecated; Imputer was deprecated in version 0.20 and will be removed in 0.22. Import impute.SimpleImputer from sklearn instead.\n",
      "  warnings.warn(msg, category=DeprecationWarning)\n",
      "/opt/conda/lib/python3.6/site-packages/sklearn/utils/deprecation.py:58: DeprecationWarning: Class Imputer is deprecated; Imputer was deprecated in version 0.20 and will be removed in 0.22. Import impute.SimpleImputer from sklearn instead.\n",
      "  warnings.warn(msg, category=DeprecationWarning)\n",
      "/opt/conda/lib/python3.6/site-packages/sklearn/utils/deprecation.py:58: DeprecationWarning: Class Imputer is deprecated; Imputer was deprecated in version 0.20 and will be removed in 0.22. Import impute.SimpleImputer from sklearn instead.\n",
      "  warnings.warn(msg, category=DeprecationWarning)\n",
      "/opt/conda/lib/python3.6/site-packages/sklearn/utils/deprecation.py:58: DeprecationWarning: Class Imputer is deprecated; Imputer was deprecated in version 0.20 and will be removed in 0.22. Import impute.SimpleImputer from sklearn instead.\n",
      "  warnings.warn(msg, category=DeprecationWarning)\n",
      "/opt/conda/lib/python3.6/site-packages/sklearn/utils/deprecation.py:58: DeprecationWarning: Class Imputer is deprecated; Imputer was deprecated in version 0.20 and will be removed in 0.22. Import impute.SimpleImputer from sklearn instead.\n",
      "  warnings.warn(msg, category=DeprecationWarning)\n",
      "/opt/conda/lib/python3.6/site-packages/sklearn/utils/deprecation.py:58: DeprecationWarning: Class Imputer is deprecated; Imputer was deprecated in version 0.20 and will be removed in 0.22. Import impute.SimpleImputer from sklearn instead.\n",
      "  warnings.warn(msg, category=DeprecationWarning)\n",
      "/opt/conda/lib/python3.6/site-packages/sklearn/utils/deprecation.py:58: DeprecationWarning: Class Imputer is deprecated; Imputer was deprecated in version 0.20 and will be removed in 0.22. Import impute.SimpleImputer from sklearn instead.\n",
      "  warnings.warn(msg, category=DeprecationWarning)\n",
      "/opt/conda/lib/python3.6/site-packages/sklearn/utils/deprecation.py:58: DeprecationWarning: Class Imputer is deprecated; Imputer was deprecated in version 0.20 and will be removed in 0.22. Import impute.SimpleImputer from sklearn instead.\n",
      "  warnings.warn(msg, category=DeprecationWarning)\n",
      "/opt/conda/lib/python3.6/site-packages/sklearn/utils/deprecation.py:58: DeprecationWarning: Class Imputer is deprecated; Imputer was deprecated in version 0.20 and will be removed in 0.22. Import impute.SimpleImputer from sklearn instead.\n",
      "  warnings.warn(msg, category=DeprecationWarning)\n",
      "/opt/conda/lib/python3.6/site-packages/sklearn/utils/deprecation.py:58: DeprecationWarning: Class Imputer is deprecated; Imputer was deprecated in version 0.20 and will be removed in 0.22. Import impute.SimpleImputer from sklearn instead.\n",
      "  warnings.warn(msg, category=DeprecationWarning)\n",
      "/opt/conda/lib/python3.6/site-packages/sklearn/utils/deprecation.py:58: DeprecationWarning: Class Imputer is deprecated; Imputer was deprecated in version 0.20 and will be removed in 0.22. Import impute.SimpleImputer from sklearn instead.\n",
      "  warnings.warn(msg, category=DeprecationWarning)\n",
      "/opt/conda/lib/python3.6/site-packages/sklearn/utils/deprecation.py:58: DeprecationWarning: Class Imputer is deprecated; Imputer was deprecated in version 0.20 and will be removed in 0.22. Import impute.SimpleImputer from sklearn instead.\n",
      "  warnings.warn(msg, category=DeprecationWarning)\n",
      "/opt/conda/lib/python3.6/site-packages/sklearn/utils/deprecation.py:58: DeprecationWarning: Class Imputer is deprecated; Imputer was deprecated in version 0.20 and will be removed in 0.22. Import impute.SimpleImputer from sklearn instead.\n",
      "  warnings.warn(msg, category=DeprecationWarning)\n",
      "/opt/conda/lib/python3.6/site-packages/sklearn/utils/deprecation.py:58: DeprecationWarning: Class Imputer is deprecated; Imputer was deprecated in version 0.20 and will be removed in 0.22. Import impute.SimpleImputer from sklearn instead.\n",
      "  warnings.warn(msg, category=DeprecationWarning)\n",
      "/opt/conda/lib/python3.6/site-packages/sklearn/utils/deprecation.py:58: DeprecationWarning: Class Imputer is deprecated; Imputer was deprecated in version 0.20 and will be removed in 0.22. Import impute.SimpleImputer from sklearn instead.\n",
      "  warnings.warn(msg, category=DeprecationWarning)\n",
      "/opt/conda/lib/python3.6/site-packages/sklearn/utils/deprecation.py:58: DeprecationWarning: Class Imputer is deprecated; Imputer was deprecated in version 0.20 and will be removed in 0.22. Import impute.SimpleImputer from sklearn instead.\n",
      "  warnings.warn(msg, category=DeprecationWarning)\n",
      "/opt/conda/lib/python3.6/site-packages/sklearn/utils/deprecation.py:58: DeprecationWarning: Class Imputer is deprecated; Imputer was deprecated in version 0.20 and will be removed in 0.22. Import impute.SimpleImputer from sklearn instead.\n",
      "  warnings.warn(msg, category=DeprecationWarning)\n"
     ]
    },
    {
     "name": "stdout",
     "output_type": "stream",
     "text": [
      "Scores: [0.48933265 0.63960866 0.29269748 0.50564653 0.59538865 0.42332953\n",
      " 0.4842434  0.38082912 0.44793622 0.42643303 0.54441415 0.58154951\n",
      " 0.55341425 0.57358656 0.66199448 0.48044298 0.56677901 0.86165135\n",
      " 0.36790246 0.41388803 0.67657559 0.41840509 0.53968326 0.44343029\n",
      " 0.51375043 0.60603642 0.47109019 0.46414375 0.4948605  0.47652579]\n",
      "Mean: 0.5131856448648772\n",
      "Standard deviation: 0.10883013188341722\n"
     ]
    },
    {
     "name": "stderr",
     "output_type": "stream",
     "text": [
      "/opt/conda/lib/python3.6/site-packages/sklearn/utils/deprecation.py:58: DeprecationWarning: Class Imputer is deprecated; Imputer was deprecated in version 0.20 and will be removed in 0.22. Import impute.SimpleImputer from sklearn instead.\n",
      "  warnings.warn(msg, category=DeprecationWarning)\n",
      "/opt/conda/lib/python3.6/site-packages/sklearn/utils/deprecation.py:58: DeprecationWarning: Class Imputer is deprecated; Imputer was deprecated in version 0.20 and will be removed in 0.22. Import impute.SimpleImputer from sklearn instead.\n",
      "  warnings.warn(msg, category=DeprecationWarning)\n",
      "/opt/conda/lib/python3.6/site-packages/sklearn/utils/deprecation.py:58: DeprecationWarning: Class Imputer is deprecated; Imputer was deprecated in version 0.20 and will be removed in 0.22. Import impute.SimpleImputer from sklearn instead.\n",
      "  warnings.warn(msg, category=DeprecationWarning)\n",
      "/opt/conda/lib/python3.6/site-packages/sklearn/utils/deprecation.py:58: DeprecationWarning: Class Imputer is deprecated; Imputer was deprecated in version 0.20 and will be removed in 0.22. Import impute.SimpleImputer from sklearn instead.\n",
      "  warnings.warn(msg, category=DeprecationWarning)\n",
      "/opt/conda/lib/python3.6/site-packages/sklearn/utils/deprecation.py:58: DeprecationWarning: Class Imputer is deprecated; Imputer was deprecated in version 0.20 and will be removed in 0.22. Import impute.SimpleImputer from sklearn instead.\n",
      "  warnings.warn(msg, category=DeprecationWarning)\n",
      "/opt/conda/lib/python3.6/site-packages/sklearn/utils/deprecation.py:58: DeprecationWarning: Class Imputer is deprecated; Imputer was deprecated in version 0.20 and will be removed in 0.22. Import impute.SimpleImputer from sklearn instead.\n",
      "  warnings.warn(msg, category=DeprecationWarning)\n",
      "/opt/conda/lib/python3.6/site-packages/sklearn/utils/deprecation.py:58: DeprecationWarning: Class Imputer is deprecated; Imputer was deprecated in version 0.20 and will be removed in 0.22. Import impute.SimpleImputer from sklearn instead.\n",
      "  warnings.warn(msg, category=DeprecationWarning)\n",
      "/opt/conda/lib/python3.6/site-packages/sklearn/utils/deprecation.py:58: DeprecationWarning: Class Imputer is deprecated; Imputer was deprecated in version 0.20 and will be removed in 0.22. Import impute.SimpleImputer from sklearn instead.\n",
      "  warnings.warn(msg, category=DeprecationWarning)\n",
      "/opt/conda/lib/python3.6/site-packages/sklearn/utils/deprecation.py:58: DeprecationWarning: Class Imputer is deprecated; Imputer was deprecated in version 0.20 and will be removed in 0.22. Import impute.SimpleImputer from sklearn instead.\n",
      "  warnings.warn(msg, category=DeprecationWarning)\n",
      "/opt/conda/lib/python3.6/site-packages/sklearn/utils/deprecation.py:58: DeprecationWarning: Class Imputer is deprecated; Imputer was deprecated in version 0.20 and will be removed in 0.22. Import impute.SimpleImputer from sklearn instead.\n",
      "  warnings.warn(msg, category=DeprecationWarning)\n",
      "/opt/conda/lib/python3.6/site-packages/sklearn/utils/deprecation.py:58: DeprecationWarning: Class Imputer is deprecated; Imputer was deprecated in version 0.20 and will be removed in 0.22. Import impute.SimpleImputer from sklearn instead.\n",
      "  warnings.warn(msg, category=DeprecationWarning)\n",
      "/opt/conda/lib/python3.6/site-packages/sklearn/utils/deprecation.py:58: DeprecationWarning: Class Imputer is deprecated; Imputer was deprecated in version 0.20 and will be removed in 0.22. Import impute.SimpleImputer from sklearn instead.\n",
      "  warnings.warn(msg, category=DeprecationWarning)\n",
      "/opt/conda/lib/python3.6/site-packages/sklearn/utils/deprecation.py:58: DeprecationWarning: Class Imputer is deprecated; Imputer was deprecated in version 0.20 and will be removed in 0.22. Import impute.SimpleImputer from sklearn instead.\n",
      "  warnings.warn(msg, category=DeprecationWarning)\n",
      "/opt/conda/lib/python3.6/site-packages/sklearn/utils/deprecation.py:58: DeprecationWarning: Class Imputer is deprecated; Imputer was deprecated in version 0.20 and will be removed in 0.22. Import impute.SimpleImputer from sklearn instead.\n",
      "  warnings.warn(msg, category=DeprecationWarning)\n",
      "/opt/conda/lib/python3.6/site-packages/sklearn/utils/deprecation.py:58: DeprecationWarning: Class Imputer is deprecated; Imputer was deprecated in version 0.20 and will be removed in 0.22. Import impute.SimpleImputer from sklearn instead.\n",
      "  warnings.warn(msg, category=DeprecationWarning)\n",
      "/opt/conda/lib/python3.6/site-packages/sklearn/utils/deprecation.py:58: DeprecationWarning: Class Imputer is deprecated; Imputer was deprecated in version 0.20 and will be removed in 0.22. Import impute.SimpleImputer from sklearn instead.\n",
      "  warnings.warn(msg, category=DeprecationWarning)\n",
      "/opt/conda/lib/python3.6/site-packages/sklearn/utils/deprecation.py:58: DeprecationWarning: Class Imputer is deprecated; Imputer was deprecated in version 0.20 and will be removed in 0.22. Import impute.SimpleImputer from sklearn instead.\n",
      "  warnings.warn(msg, category=DeprecationWarning)\n",
      "/opt/conda/lib/python3.6/site-packages/sklearn/utils/deprecation.py:58: DeprecationWarning: Class Imputer is deprecated; Imputer was deprecated in version 0.20 and will be removed in 0.22. Import impute.SimpleImputer from sklearn instead.\n",
      "  warnings.warn(msg, category=DeprecationWarning)\n",
      "/opt/conda/lib/python3.6/site-packages/sklearn/utils/deprecation.py:58: DeprecationWarning: Class Imputer is deprecated; Imputer was deprecated in version 0.20 and will be removed in 0.22. Import impute.SimpleImputer from sklearn instead.\n",
      "  warnings.warn(msg, category=DeprecationWarning)\n",
      "/opt/conda/lib/python3.6/site-packages/sklearn/utils/deprecation.py:58: DeprecationWarning: Class Imputer is deprecated; Imputer was deprecated in version 0.20 and will be removed in 0.22. Import impute.SimpleImputer from sklearn instead.\n",
      "  warnings.warn(msg, category=DeprecationWarning)\n",
      "/opt/conda/lib/python3.6/site-packages/sklearn/utils/deprecation.py:58: DeprecationWarning: Class Imputer is deprecated; Imputer was deprecated in version 0.20 and will be removed in 0.22. Import impute.SimpleImputer from sklearn instead.\n",
      "  warnings.warn(msg, category=DeprecationWarning)\n",
      "/opt/conda/lib/python3.6/site-packages/sklearn/utils/deprecation.py:58: DeprecationWarning: Class Imputer is deprecated; Imputer was deprecated in version 0.20 and will be removed in 0.22. Import impute.SimpleImputer from sklearn instead.\n",
      "  warnings.warn(msg, category=DeprecationWarning)\n",
      "/opt/conda/lib/python3.6/site-packages/sklearn/utils/deprecation.py:58: DeprecationWarning: Class Imputer is deprecated; Imputer was deprecated in version 0.20 and will be removed in 0.22. Import impute.SimpleImputer from sklearn instead.\n",
      "  warnings.warn(msg, category=DeprecationWarning)\n",
      "/opt/conda/lib/python3.6/site-packages/sklearn/utils/deprecation.py:58: DeprecationWarning: Class Imputer is deprecated; Imputer was deprecated in version 0.20 and will be removed in 0.22. Import impute.SimpleImputer from sklearn instead.\n",
      "  warnings.warn(msg, category=DeprecationWarning)\n",
      "/opt/conda/lib/python3.6/site-packages/sklearn/utils/deprecation.py:58: DeprecationWarning: Class Imputer is deprecated; Imputer was deprecated in version 0.20 and will be removed in 0.22. Import impute.SimpleImputer from sklearn instead.\n",
      "  warnings.warn(msg, category=DeprecationWarning)\n",
      "/opt/conda/lib/python3.6/site-packages/sklearn/utils/deprecation.py:58: DeprecationWarning: Class Imputer is deprecated; Imputer was deprecated in version 0.20 and will be removed in 0.22. Import impute.SimpleImputer from sklearn instead.\n",
      "  warnings.warn(msg, category=DeprecationWarning)\n",
      "/opt/conda/lib/python3.6/site-packages/sklearn/utils/deprecation.py:58: DeprecationWarning: Class Imputer is deprecated; Imputer was deprecated in version 0.20 and will be removed in 0.22. Import impute.SimpleImputer from sklearn instead.\n",
      "  warnings.warn(msg, category=DeprecationWarning)\n",
      "/opt/conda/lib/python3.6/site-packages/sklearn/utils/deprecation.py:58: DeprecationWarning: Class Imputer is deprecated; Imputer was deprecated in version 0.20 and will be removed in 0.22. Import impute.SimpleImputer from sklearn instead.\n",
      "  warnings.warn(msg, category=DeprecationWarning)\n"
     ]
    },
    {
     "name": "stdout",
     "output_type": "stream",
     "text": [
      "Scores: [0.72701364 0.81617662 0.56173792 0.72082458 0.76418538 0.61738224\n",
      " 0.84383079 0.63692736 0.76488483 0.55969705 0.53195726 1.03646812\n",
      " 0.70225812 0.61787996 0.68666184 0.66921508 0.75883946 0.98713245\n",
      " 0.5311345  0.72296081 0.96204729 0.7583536  0.60096434 1.03737048\n",
      " 0.98023901 0.8449231  0.69625658 0.53032541 0.72920602 0.53851932]\n",
      "Mean: 0.7311791054273578\n",
      "Standard deviation: 0.15048388140404567\n",
      "The p-value is 0.00000 for a t-score of -8.71501.\n"
     ]
    },
    {
     "name": "stderr",
     "output_type": "stream",
     "text": [
      "/opt/conda/lib/python3.6/site-packages/sklearn/utils/deprecation.py:58: DeprecationWarning: Class Imputer is deprecated; Imputer was deprecated in version 0.20 and will be removed in 0.22. Import impute.SimpleImputer from sklearn instead.\n",
      "  warnings.warn(msg, category=DeprecationWarning)\n"
     ]
    }
   ],
   "source": [
    "#Statistics Significance test  \n",
    "\n",
    "from sklearn.model_selection import cross_val_score\n",
    "from scipy import stats\n",
    "\n",
    "def display_scores(scores):\n",
    "    print(\"Scores:\", scores)\n",
    "    print(\"Mean:\", scores.mean())\n",
    "    print(\"Standard deviation:\", scores.std())\n",
    "\n",
    "# A sampling based bakeoff using K-fold cross-validation: \n",
    "# it randomly splits the training set into K distinct subsets (k=30)\n",
    "# this bakeoff framework can be used for regression or classification\n",
    "#Control system is a linear regression based pipeline\n",
    "\n",
    "kFolds=30\n",
    "\n",
    "lin_scores = cross_val_score(Lr_pipeline_std, X_stock_train, y_stock_train,\n",
    "                             scoring=\"neg_mean_squared_error\", cv=kFolds)\n",
    "control = lin_rmse_scores = np.sqrt(-lin_scores)\n",
    "display_scores(lin_rmse_scores)\n",
    "\n",
    "scores = cross_val_score(svr_pipeline_std, X_stock_train, y_stock_train,\n",
    "                         scoring=\"neg_mean_squared_error\", cv=kFolds)\n",
    "treatment = tree_rmse_scores = np.sqrt(-scores)\n",
    "display_scores(tree_rmse_scores)\n",
    "\n",
    "#paired t-test; two-tailed p-value (aka two-sided)\n",
    "(t_score, p_value) = stats.ttest_rel(control, treatment)\n",
    "print(\"The p-value is %0.5f for a t-score of %0.5f.\" %(p_value, t_score))\n",
    "#\"The p-value is 0.00019 for a t-score of -4.28218.\" \n"
   ]
  },
  {
   "cell_type": "code",
   "execution_count": 36,
   "metadata": {
    "_cell_guid": "ec8aeb67-5493-4201-8878-4510119aea3c",
    "_uuid": "901771a00fffb965c1740ef176cdde0b2abd3166"
   },
   "outputs": [
    {
     "name": "stdout",
     "output_type": "stream",
     "text": [
      "The two machine learning pipelines are different (reject H0) \n",
      "(t_score, p_value) = (-8.72, 0.00000)\n",
      "Machine learning pipeline Linear regression is better than linear SVR pipeline\n"
     ]
    }
   ],
   "source": [
    "if p_value > 0.05/2:  #Two sided \n",
    "    print('There is no significant difference between the two machine learning pipelines (Accept H0)')\n",
    "else:\n",
    "    print('The two machine learning pipelines are different (reject H0) \\n(t_score, p_value) = (%.2f, %.5f)'%(t_score, p_value) )\n",
    "    if t_score < 0.0:\n",
    "        print('Machine learning pipeline Linear regression is better than linear SVR pipeline')\n",
    "    else:\n",
    "        print('Machine learning pipeline linear SVR pipeline is better than Linear regression')"
   ]
  },
  {
   "cell_type": "markdown",
   "metadata": {
    "_cell_guid": "56fc5078-ae84-43fc-a1ed-731cc4422ba9",
    "_uuid": "c4cd761276c7282cc70a2a815e4c65412e7a5ee5"
   },
   "source": []
  },
  {
   "cell_type": "markdown",
   "metadata": {
    "_cell_guid": "e27e5e18-9fc1-4820-91a5-fd073b2e1392",
    "_uuid": "82a6670b727e3af554e0e515369b51b8b857cf0e"
   },
   "source": [
    " ### 7 . Clustering Model of Stocks \n",
    "\n",
    "Earlier we manually assigned classes to the training data and used classification model to predict the class of test data. \n",
    "Now we are using unsupervised learning (Clustering Method) to split stocks in similar clusters and will use cluster model to predict the cluster for the investor's  stock. \n",
    "\n"
   ]
  },
  {
   "cell_type": "markdown",
   "metadata": {
    "_cell_guid": "7b0d4740-0715-4e4d-a73b-bc4c317bd0c3",
    "_uuid": "8c111791d89202a8bf777656cd6cc167d659ad96"
   },
   "source": [
    "#### 7.1 K-Means model using K-mean++ for deciding number of clusters "
   ]
  },
  {
   "cell_type": "code",
   "execution_count": 46,
   "metadata": {
    "_cell_guid": "5ab4badf-91a5-4fd2-902a-472d0df3a9fc",
    "_uuid": "256abdba446cc7eded42b4ef878feedb36b9fd40"
   },
   "outputs": [
    {
     "name": "stdout",
     "output_type": "stream",
     "text": [
      "Number of clusters 8\n"
     ]
    }
   ],
   "source": [
    "#Using K-means model to cluster the stocks linear model coefficients \n",
    "\n",
    "from sklearn.cluster import KMeans\n",
    "\n",
    "X_class = np.array(df.ix[:, 2:8]) \t# end index is exclusive\n",
    "\n",
    "k_mean = KMeans()\n",
    "\n",
    "#number of clusters will be decided by K-mean++ , by default \n",
    "k_mean_model = k_mean.fit(X_class)\n",
    "\n",
    "print(\"Number of clusters\",k_mean_model.n_clusters) "
   ]
  },
  {
   "cell_type": "code",
   "execution_count": 47,
   "metadata": {
    "_cell_guid": "3de3a989-a7b1-41cb-9338-15f0df40d590",
    "_uuid": "3cce9a94db19d783da7adbc743ae33aae09b2677"
   },
   "outputs": [],
   "source": [
    "#Predicting the cluster assignment for 500 stocks \n",
    "\n",
    "#Dropping the CLASS column added as part of classification , we don't need for clustering\n",
    "df_cluster = df.drop(['CLASS'], axis=1)\n",
    "\n",
    "#Selecting features from dataframe , there are 6 features \n",
    "X_cluster = np.array(df_cluster.ix[:, 1:7])\n",
    "\n",
    "y_pred = k_mean_model.predict(X_cluster)\n",
    "\n",
    "pred_df = pd.DataFrame({ 'Stock': df_cluster.ix[:, 0],'Cluster': y_pred})\n",
    "\n"
   ]
  },
  {
   "cell_type": "code",
   "execution_count": 48,
   "metadata": {
    "_cell_guid": "663a3d5b-b359-42f5-95c0-c41ace526c1a",
    "_uuid": "2f0ac004bb07f6640b656255dcce3c5e484cfa59"
   },
   "outputs": [
    {
     "data": {
      "text/html": [
       "<div>\n",
       "<style scoped>\n",
       "    .dataframe tbody tr th:only-of-type {\n",
       "        vertical-align: middle;\n",
       "    }\n",
       "\n",
       "    .dataframe tbody tr th {\n",
       "        vertical-align: top;\n",
       "    }\n",
       "\n",
       "    .dataframe thead th {\n",
       "        text-align: right;\n",
       "    }\n",
       "</style>\n",
       "<table border=\"1\" class=\"dataframe\">\n",
       "  <thead>\n",
       "    <tr style=\"text-align: right;\">\n",
       "      <th></th>\n",
       "      <th>Stock</th>\n",
       "      <th>Cluster</th>\n",
       "    </tr>\n",
       "  </thead>\n",
       "  <tbody>\n",
       "    <tr>\n",
       "      <th>0</th>\n",
       "      <td>ARE</td>\n",
       "      <td>2</td>\n",
       "    </tr>\n",
       "    <tr>\n",
       "      <th>1</th>\n",
       "      <td>APTV</td>\n",
       "      <td>7</td>\n",
       "    </tr>\n",
       "    <tr>\n",
       "      <th>2</th>\n",
       "      <td>APH</td>\n",
       "      <td>0</td>\n",
       "    </tr>\n",
       "    <tr>\n",
       "      <th>3</th>\n",
       "      <td>APD</td>\n",
       "      <td>2</td>\n",
       "    </tr>\n",
       "    <tr>\n",
       "      <th>4</th>\n",
       "      <td>APC</td>\n",
       "      <td>2</td>\n",
       "    </tr>\n",
       "    <tr>\n",
       "      <th>5</th>\n",
       "      <td>APA</td>\n",
       "      <td>2</td>\n",
       "    </tr>\n",
       "    <tr>\n",
       "      <th>6</th>\n",
       "      <td>AOS</td>\n",
       "      <td>0</td>\n",
       "    </tr>\n",
       "    <tr>\n",
       "      <th>7</th>\n",
       "      <td>AON</td>\n",
       "      <td>2</td>\n",
       "    </tr>\n",
       "    <tr>\n",
       "      <th>8</th>\n",
       "      <td>ANTM</td>\n",
       "      <td>4</td>\n",
       "    </tr>\n",
       "    <tr>\n",
       "      <th>9</th>\n",
       "      <td>ANSS</td>\n",
       "      <td>5</td>\n",
       "    </tr>\n",
       "    <tr>\n",
       "      <th>10</th>\n",
       "      <td>ANDV</td>\n",
       "      <td>2</td>\n",
       "    </tr>\n",
       "    <tr>\n",
       "      <th>11</th>\n",
       "      <td>AMZN</td>\n",
       "      <td>1</td>\n",
       "    </tr>\n",
       "    <tr>\n",
       "      <th>12</th>\n",
       "      <td>AMT</td>\n",
       "      <td>2</td>\n",
       "    </tr>\n",
       "    <tr>\n",
       "      <th>13</th>\n",
       "      <td>AMP</td>\n",
       "      <td>5</td>\n",
       "    </tr>\n",
       "    <tr>\n",
       "      <th>14</th>\n",
       "      <td>AMGN</td>\n",
       "      <td>2</td>\n",
       "    </tr>\n",
       "    <tr>\n",
       "      <th>15</th>\n",
       "      <td>AMG</td>\n",
       "      <td>3</td>\n",
       "    </tr>\n",
       "    <tr>\n",
       "      <th>16</th>\n",
       "      <td>AME</td>\n",
       "      <td>7</td>\n",
       "    </tr>\n",
       "    <tr>\n",
       "      <th>17</th>\n",
       "      <td>AMD</td>\n",
       "      <td>7</td>\n",
       "    </tr>\n",
       "    <tr>\n",
       "      <th>18</th>\n",
       "      <td>AMAT</td>\n",
       "      <td>0</td>\n",
       "    </tr>\n",
       "    <tr>\n",
       "      <th>19</th>\n",
       "      <td>ALXN</td>\n",
       "      <td>3</td>\n",
       "    </tr>\n",
       "  </tbody>\n",
       "</table>\n",
       "</div>"
      ],
      "text/plain": [
       "   Stock  Cluster\n",
       "0    ARE        2\n",
       "1   APTV        7\n",
       "2    APH        0\n",
       "3    APD        2\n",
       "4    APC        2\n",
       "5    APA        2\n",
       "6    AOS        0\n",
       "7    AON        2\n",
       "8   ANTM        4\n",
       "9   ANSS        5\n",
       "10  ANDV        2\n",
       "11  AMZN        1\n",
       "12   AMT        2\n",
       "13   AMP        5\n",
       "14  AMGN        2\n",
       "15   AMG        3\n",
       "16   AME        7\n",
       "17   AMD        7\n",
       "18  AMAT        0\n",
       "19  ALXN        3"
      ]
     },
     "execution_count": 48,
     "metadata": {},
     "output_type": "execute_result"
    }
   ],
   "source": [
    "#Cluster assignment for the stocks , there are total 8 clusters \n",
    "pred_df.head(n=20)\n"
   ]
  },
  {
   "cell_type": "markdown",
   "metadata": {
    "_cell_guid": "763ffcdd-412e-4c59-9260-8f6766028400",
    "_uuid": "2cb8c4ec73bcd341c954c7df59c3c1ccfe2e79e7"
   },
   "source": [
    "### 8. Success / Failure Analysis"
   ]
  },
  {
   "cell_type": "markdown",
   "metadata": {
    "_cell_guid": "f4f0648f-e26e-47f2-b2ca-9f817fb8cf08",
    "_uuid": "851f02c68962df3034518329f34a28ae7f5af869"
   },
   "source": [
    "####  Finding best model to predict closing price for Stocks \n",
    "            1. We removed the features 'Name' & 'Date' as the initial testing with these features but after removing these features the model performance has greatly increated \n",
    "            2. We used regression model to predict the close day stock price, here we tried different methods to pre-process the data by scaling and \n",
    "            normalizing\n",
    "            \n",
    "             3. Normalization is not giving us a better result , as we are training the linear model per stock , using each stock's 5 year of trading data . Results shows it clearly that Standardization is a better fit for us.\n",
    "             Based on the RMSE values in the below table, Linear Regression, SVR with Linear kernel performed good with Standardization, but SVR with RBF kernel, Decision Tree performed bad with both standardization and normalization\n",
    "             We tried Ridge and Lasso regularization using cross validation to experiment, how the model performs with penalty, these regularizations performed better than SVR with RBF and Decision Tree, however it didn't outperform the Linear Regression with standardization.\n",
    "             4. We did tuning of the model for Linear Regression, SVR with Linear and RBF kernels and Decision Tree regressor, the performance for SVR has improved with Linear kernel after tuning, but Deicsion Tree and Linear regrssion didn't show much difference, however the overall performance on both train and test dataset was better in Linear Regression\n",
    "             We performed the Statistics significance test for top 2 models i.e. Linear Regression model and Linear SVR , to find out whether they have significant difference in their performance . And result showed that Linear Regression model is significantly better than linear SVR. \n",
    "            5. We started with validation of all the models with just 1 stock , then we improved our logic to validate all the model combinations for all the stocks . This validated our assumption that Linear regression with Standardization is the best fitted model for our data.\n",
    "####  Classification and clustering \n",
    "    We started with homegrown target class assignment and training classification model using that data , and we kept the # of classes as 3 . This model had many limitations. Then we improved our modelling to use Clustering , this way there was no need to assign stocks pre defined classes and # of cluster were also not limited to 3 . \n",
    "    We used K-mean ++ to decide # of clusters \n",
    "     \n",
    "\n",
    "         "
   ]
  }
 ],
 "metadata": {
  "kernelspec": {
   "display_name": "Python 3",
   "language": "python",
   "name": "python3"
  },
  "language_info": {
   "codemirror_mode": {
    "name": "ipython",
    "version": 3
   },
   "file_extension": ".py",
   "mimetype": "text/x-python",
   "name": "python",
   "nbconvert_exporter": "python",
   "pygments_lexer": "ipython3",
   "version": "3.6.5"
  },
  "toc": {
   "nav_menu": {},
   "number_sections": true,
   "sideBar": true,
   "skip_h1_title": true,
   "title_cell": "Table of Contents",
   "title_sidebar": "Contents",
   "toc_cell": true,
   "toc_position": {},
   "toc_section_display": true,
   "toc_window_display": true
  }
 },
 "nbformat": 4,
 "nbformat_minor": 4
}
